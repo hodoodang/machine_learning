{
 "cells": [
  {
   "cell_type": "markdown",
   "metadata": {},
   "source": [
    "# 분류 classification\n",
    "- regression: MSE(Mean, Square Error): mean(square(Y:정답 h:예측))\n",
    "- classification: Cross Entropy: -Y \\* log(h), Y=(0,1)\n",
    "\n",
    "---\n",
    "머신러닝에 필요한 소양 3가지(개인 의견)\n",
    "- 프로그래밍\n",
    "- 알고리즘\n",
    "- 수학"
   ]
  },
  {
   "cell_type": "code",
   "execution_count": 77,
   "metadata": {
    "collapsed": true
   },
   "outputs": [],
   "source": [
    "import numpy as np\n",
    "import pandas as pd\n",
    "import matplotlib.pyplot as plt\n",
    "%matplotlib inline"
   ]
  },
  {
   "cell_type": "code",
   "execution_count": 85,
   "metadata": {},
   "outputs": [
    {
     "name": "stderr",
     "output_type": "stream",
     "text": [
      "C:\\ProgramData\\Anaconda3\\lib\\site-packages\\ipykernel_launcher.py:1: RuntimeWarning: divide by zero encountered in log10\n",
      "  \"\"\"Entry point for launching an IPython kernel.\n"
     ]
    },
    {
     "data": {
      "text/plain": [
       "(-inf, -3.0, 1.0, 2.0, 3.0)"
      ]
     },
     "execution_count": 85,
     "metadata": {},
     "output_type": "execute_result"
    }
   ],
   "source": [
    "np.log10(0), np.log10(0.001), np.log10(10), np.log10(100), np.log10(1000)"
   ]
  },
  {
   "cell_type": "code",
   "execution_count": 86,
   "metadata": {},
   "outputs": [
    {
     "data": {
      "text/plain": [
       "(4, 8, 16)"
      ]
     },
     "execution_count": 86,
     "metadata": {},
     "output_type": "execute_result"
    }
   ],
   "source": [
    "2**2, 2**3, 2**4 "
   ]
  },
  {
   "cell_type": "code",
   "execution_count": 87,
   "metadata": {},
   "outputs": [
    {
     "data": {
      "text/plain": [
       "(0.5, 0.25, 0.125, 0.0625)"
      ]
     },
     "execution_count": 87,
     "metadata": {},
     "output_type": "execute_result"
    }
   ],
   "source": [
    "2**-1, 2**-2, 2**-3, 2**-4"
   ]
  },
  {
   "cell_type": "code",
   "execution_count": 88,
   "metadata": {},
   "outputs": [
    {
     "data": {
      "text/plain": [
       "(0.0, 0.99694863489160956, 1.6094379124341003)"
      ]
     },
     "execution_count": 88,
     "metadata": {},
     "output_type": "execute_result"
    }
   ],
   "source": [
    "np.log(1), np.log(2.71), np.log(5)"
   ]
  },
  {
   "cell_type": "code",
   "execution_count": 89,
   "metadata": {},
   "outputs": [
    {
     "data": {
      "text/plain": [
       "<matplotlib.collections.PathCollection at 0x30d0a2bc18>"
      ]
     },
     "execution_count": 89,
     "metadata": {},
     "output_type": "execute_result"
    },
    {
     "data": {
      "image/png": "[encoded data removed]",
      "text/plain": [
       "<matplotlib.figure.Figure at 0x30d0b87208>"
      ]
     },
     "metadata": {},
     "output_type": "display_data"
    }
   ],
   "source": [
    "x = np.arange(0.0001, 1, 0.0001)\n",
    "y = np.log(x)\n",
    "plt.scatter(x, y)"
   ]
  },
  {
   "cell_type": "code",
   "execution_count": 2,
   "metadata": {
    "collapsed": true
   },
   "outputs": [],
   "source": [
    "Y = [0, 1, 0] # 정답\n",
    "h = [0.1, 0.9, 0.7] # 예측\n",
    "y = np.array(Y)\n",
    "h = np.array(h)"
   ]
  },
  {
   "cell_type": "code",
   "execution_count": 4,
   "metadata": {},
   "outputs": [
    {
     "data": {
      "text/plain": [
       "(0.29999999999999999, 0.16999999999999996, 0.47156461188052951)"
      ]
     },
     "execution_count": 4,
     "metadata": {},
     "output_type": "execute_result"
    }
   ],
   "source": [
    "mae = np.mean(np.abs(y - h)) # MAE(평균 절대값 오차)\n",
    "mse = np.mean(np.square(y -h)) # MSE(평균 제곱 오차)\n",
    "ce = np.mean(-(y * np.log(h) + (1-y) * np.log(1-h))) # 크로스 엔트로피\n",
    "mae, mse, ce"
   ]
  },
  {
   "cell_type": "code",
   "execution_count": null,
   "metadata": {
    "collapsed": true
   },
   "outputs": [],
   "source": [
    "y * np.log(h) # y = 1인 데이터의 오차"
   ]
  },
  {
   "cell_type": "code",
   "execution_count": null,
   "metadata": {
    "collapsed": true
   },
   "outputs": [],
   "source": [
    "(1-y) * np.log(1-h) # y = 0인 데이터의 오차"
   ]
  },
  {
   "cell_type": "code",
   "execution_count": 5,
   "metadata": {
    "collapsed": true
   },
   "outputs": [],
   "source": [
    "y = np.array([0, 0, 0, 1, 1, 1])\n",
    "h = np.array([0.001, 0.1, 0.9, 0.9999, 0.9, 0.3])\n",
    "np.set_printoptions(precision=3, suppress=True)"
   ]
  },
  {
   "cell_type": "code",
   "execution_count": 6,
   "metadata": {},
   "outputs": [
    {
     "data": {
      "text/plain": [
       "array([ 0.001,  0.105,  2.303,  0.   ,  0.105,  1.204])"
      ]
     },
     "execution_count": 6,
     "metadata": {},
     "output_type": "execute_result"
    }
   ],
   "source": [
    "-(y * np.log(h) + (1-y) * np.log(1-h))"
   ]
  },
  {
   "cell_type": "markdown",
   "metadata": {},
   "source": [
    "코로나 바이러스/ 분류 / \"바이러스가 있냐(1) 없냐(0)\"\n",
    "- 샘플이 더 적고 관심있는 것 = 1\n",
    "- 증상 : 발열, 기침(분당 횟수), 두통 정도(0:정상~10:아프다), 중국 방문 여부(1:방문 0:없음)"
   ]
  },
  {
   "cell_type": "code",
   "execution_count": 37,
   "metadata": {
    "collapsed": true
   },
   "outputs": [],
   "source": [
    "x = [[37, 3, 3, 0], [39, 5, 7, 1], [36, 5, 7, 0], [38, 10, 2, 1], [36.6, 2, 2, 0], [37.3, 0, 2, 0], [37.5, 4, 6, 0],[36.5, 0, 0, 0]]\n",
    "y = [0, 1, 0, 1, 0, 0, 1, 0]\n",
    "x_test = [[38, 5, 1, 0], [37, 10, 5, 1]]"
   ]
  },
  {
   "cell_type": "markdown",
   "metadata": {},
   "source": [
    "logistic regression 모델을 사용해서 위 데이터를 학습시키고 테스트셋을 예측하세요"
   ]
  },
  {
   "cell_type": "markdown",
   "metadata": {},
   "source": [
    "keras로 위 데이터를 학습시키고 테스트셋을 예측하세요"
   ]
  },
  {
   "cell_type": "code",
   "execution_count": 38,
   "metadata": {
    "collapsed": true
   },
   "outputs": [],
   "source": [
    "from sklearn.neural_network import MLPClassifier"
   ]
  },
  {
   "cell_type": "code",
   "execution_count": 72,
   "metadata": {},
   "outputs": [
    {
     "data": {
      "text/plain": [
       "array([[ 0.333,  0.3  ,  0.429,  0.   ],\n",
       "       [ 1.   ,  0.5  ,  1.   ,  1.   ],\n",
       "       [ 0.   ,  0.5  ,  1.   ,  0.   ],\n",
       "       [ 0.667,  1.   ,  0.286,  1.   ],\n",
       "       [ 0.2  ,  0.2  ,  0.286,  0.   ],\n",
       "       [ 0.433,  0.   ,  0.286,  0.   ],\n",
       "       [ 0.5  ,  0.4  ,  0.857,  0.   ],\n",
       "       [ 0.167,  0.   ,  0.   ,  0.   ]])"
      ]
     },
     "execution_count": 72,
     "metadata": {},
     "output_type": "execute_result"
    }
   ],
   "source": [
    "# min max 정규화 [0~1]\n",
    "# [1,2,3] > [0, 0.5, 1] 최소값 0, 최대값 1이 되도록 변경\n",
    "# [1,2,3] - 1(최소값) = [0,1,2] / 2(최대값-최소값) = [0, 0.5, 1]\n",
    "x = np.array(x)\n",
    "x_test = np.array(x_test)\n",
    "x_norm = (x - np.min(x, axis=0)) / (np.max(x, axis=0) - np.min(x, axis=0))\n",
    "x_norm_test = (x_test - np.min(x, axis=0)) / (np.max(x, axis=0) - np.min(x, axis=0))\n",
    "x_norm"
   ]
  },
  {
   "cell_type": "code",
   "execution_count": 76,
   "metadata": {},
   "outputs": [
    {
     "data": {
      "text/plain": [
       "(array([0, 1, 0, 1, 0, 0, 1, 0]), array([0, 1]))"
      ]
     },
     "execution_count": 76,
     "metadata": {},
     "output_type": "execute_result"
    }
   ],
   "source": [
    "#Multi Layer Perceptron 분류기\n",
    "model = MLPClassifier(max_iter=1000).fit(x_norm,y)\n",
    "model.predict(x_norm), model.predict(x_norm_test)"
   ]
  },
  {
   "cell_type": "markdown",
   "metadata": {},
   "source": [
    "붓꽃 데이터를 받아서 클래스 0,1만 가지고(150개 중 100개) MLP로 학습시켜 보세요."
   ]
  },
  {
   "cell_type": "code",
   "execution_count": 78,
   "metadata": {},
   "outputs": [
    {
     "data": {
      "text/plain": [
       "((100, 4), (100,))"
      ]
     },
     "execution_count": 78,
     "metadata": {},
     "output_type": "execute_result"
    }
   ],
   "source": [
    "from sklearn.datasets import load_iris\n",
    "x, y = load_iris(True)\n",
    "x = x[:100]\n",
    "y = y[:100]\n",
    "x.shape, y.shape"
   ]
  },
  {
   "cell_type": "code",
   "execution_count": 84,
   "metadata": {},
   "outputs": [
    {
     "data": {
      "text/plain": [
       "1.0"
      ]
     },
     "execution_count": 84,
     "metadata": {},
     "output_type": "execute_result"
    }
   ],
   "source": [
    "x_norm = (x - np.min(x, axis=0)) / (np.max(x, axis=0) - np.min(x, axis=0))\n",
    "model = MLPClassifier(max_iter=1000).fit(x_norm, y)\n",
    "model.score(x_norm, y)"
   ]
  },
  {
   "cell_type": "code",
   "execution_count": 16,
   "metadata": {
    "collapsed": true
   },
   "outputs": [],
   "source": [
    "from sklearn.linear_model import LogisticRegression"
   ]
  },
  {
   "cell_type": "code",
   "execution_count": 17,
   "metadata": {
    "collapsed": true
   },
   "outputs": [],
   "source": [
    "model = LogisticRegression()"
   ]
  },
  {
   "cell_type": "code",
   "execution_count": 18,
   "metadata": {},
   "outputs": [
    {
     "data": {
      "text/plain": [
       "LogisticRegression(C=1.0, class_weight=None, dual=False, fit_intercept=True,\n",
       "          intercept_scaling=1, max_iter=100, multi_class='ovr', n_jobs=1,\n",
       "          penalty='l2', random_state=None, solver='liblinear', tol=0.0001,\n",
       "          verbose=0, warm_start=False)"
      ]
     },
     "execution_count": 18,
     "metadata": {},
     "output_type": "execute_result"
    }
   ],
   "source": [
    "model.fit(x, y)"
   ]
  },
  {
   "cell_type": "code",
   "execution_count": 19,
   "metadata": {},
   "outputs": [
    {
     "data": {
      "text/plain": [
       "array([0, 1, 1, 1, 0, 0, 0, 0])"
      ]
     },
     "execution_count": 19,
     "metadata": {},
     "output_type": "execute_result"
    }
   ],
   "source": [
    "model.predict(x)"
   ]
  },
  {
   "cell_type": "code",
   "execution_count": 20,
   "metadata": {},
   "outputs": [
    {
     "data": {
      "text/plain": [
       "array([[ 0.813,  0.187],\n",
       "       [ 0.314,  0.686],\n",
       "       [ 0.333,  0.667],\n",
       "       [ 0.082,  0.918],\n",
       "       [ 0.902,  0.098],\n",
       "       [ 0.967,  0.033],\n",
       "       [ 0.562,  0.438],\n",
       "       [ 0.978,  0.022]])"
      ]
     },
     "execution_count": 20,
     "metadata": {},
     "output_type": "execute_result"
    }
   ],
   "source": [
    "model.predict_proba(x)"
   ]
  },
  {
   "cell_type": "code",
   "execution_count": 21,
   "metadata": {},
   "outputs": [
    {
     "data": {
      "text/plain": [
       "(array([[-0.102,  0.547,  0.242,  0.396]]), array([-0.048]))"
      ]
     },
     "execution_count": 21,
     "metadata": {},
     "output_type": "execute_result"
    }
   ],
   "source": [
    "# 해석: 발열, 기침, 두통, 중국방문\n",
    "model.coef_, model.intercept_"
   ]
  },
  {
   "cell_type": "code",
   "execution_count": 22,
   "metadata": {
    "collapsed": true
   },
   "outputs": [],
   "source": [
    "def sigmoid(x): # 점수 score -> 확률 probability(합이 1)로 변환\n",
    "    return 1/ (1+np.exp(-x))"
   ]
  },
  {
   "cell_type": "code",
   "execution_count": 23,
   "metadata": {},
   "outputs": [
    {
     "data": {
      "text/plain": [
       "array([ 0.187,  0.686,  0.667,  0.918,  0.098,  0.033,  0.438,  0.022])"
      ]
     },
     "execution_count": 23,
     "metadata": {},
     "output_type": "execute_result"
    }
   ],
   "source": [
    "# y = sigmoid(WX + b)\n",
    "sigmoid(np.sum(model.coef_ * x, axis=1) + model.intercept_)"
   ]
  },
  {
   "cell_type": "markdown",
   "metadata": {},
   "source": [
    "성능 지표\n",
    "- 정확도 accuracy : 정답과 예측의 동일한 비율 \n",
    "    - (0, 1 중에 1의 샘플이 적은 경우 사용하지 않습니다: 대부분 1이 훨씬 적습니다.)\n",
    "- precision 정밀도, recall 재현율"
   ]
  },
  {
   "cell_type": "code",
   "execution_count": 24,
   "metadata": {
    "collapsed": true
   },
   "outputs": [],
   "source": [
    "y = [0,0,0,0,0,0,0,0,1,1] # 정답\n",
    "h = [0,0,0,0,0,1,1,1,1,1] # 예측"
   ]
  },
  {
   "cell_type": "code",
   "execution_count": 29,
   "metadata": {
    "collapsed": true
   },
   "outputs": [],
   "source": [
    "from sklearn.metrics import precision_score, recall_score, accuracy_score, confusion_matrix"
   ]
  },
  {
   "cell_type": "code",
   "execution_count": 30,
   "metadata": {},
   "outputs": [
    {
     "data": {
      "text/plain": [
       "(0.40000000000000002, 1.0)"
      ]
     },
     "execution_count": 30,
     "metadata": {},
     "output_type": "execute_result"
    }
   ],
   "source": [
    "# 정밀율: 1이라고 예측한 것(5개) 중에 맞은(2개) 비율 \n",
    "# 재현율: 1(2개) 중에 맞춘(2개) 비율\n",
    "precision_score(y, h), recall_score(y, h)"
   ]
  },
  {
   "cell_type": "code",
   "execution_count": null,
   "metadata": {
    "collapsed": true
   },
   "outputs": [],
   "source": [
    "y = [0,0,1,1]\n",
    "h = [0,0,0,1]"
   ]
  },
  {
   "cell_type": "code",
   "execution_count": null,
   "metadata": {
    "collapsed": true
   },
   "outputs": [],
   "source": [
    "y = [0,0,0,1]\n",
    "h = [0,1,1,1]"
   ]
  },
  {
   "cell_type": "code",
   "execution_count": 34,
   "metadata": {
    "collapsed": true
   },
   "outputs": [],
   "source": [
    "y = [0,0,0,0,0,0,0,0,0,0,0,0,0,0,0,0,0,0,0,0,0,0,0,0,0,0,0,1,1]\n",
    "h = [1,1,1,1,1,1,1,1,1,1,1,1,1,1,1,1,1,1,1,1,1,1,1,1,1,1,1,1,1]"
   ]
  },
  {
   "cell_type": "code",
   "execution_count": 35,
   "metadata": {},
   "outputs": [
    {
     "data": {
      "text/plain": [
       "(0.068965517241379309, 0.068965517241379309, 1.0)"
      ]
     },
     "execution_count": 35,
     "metadata": {},
     "output_type": "execute_result"
    }
   ],
   "source": [
    "accuracy_score(y,h), precision_score(y,h), recall_score(y,h)"
   ]
  },
  {
   "cell_type": "code",
   "execution_count": 26,
   "metadata": {},
   "outputs": [
    {
     "data": {
      "text/plain": [
       "0.69999999999999996"
      ]
     },
     "execution_count": 26,
     "metadata": {},
     "output_type": "execute_result"
    }
   ],
   "source": [
    "accuracy_score(y, h)"
   ]
  },
  {
   "cell_type": "code",
   "execution_count": 28,
   "metadata": {},
   "outputs": [
    {
     "data": {
      "text/plain": [
       "array([[5, 3],\n",
       "       [0, 2]], dtype=int64)"
      ]
     },
     "execution_count": 28,
     "metadata": {},
     "output_type": "execute_result"
    }
   ],
   "source": [
    "# y축: 정답, x축: 예측\n",
    "confusion_matrix(y, h) # 혼동 행렬\n",
    "# 3 : y=0인데 h=1이라고 잘못 예측한 샘플"
   ]
  },
  {
   "cell_type": "code",
   "execution_count": null,
   "metadata": {
    "collapsed": true
   },
   "outputs": [],
   "source": [
    "y = [0, 1, 2]\n",
    "y_hot = [[1,0,0], [0,1,0], [0,0,1]] # one-hot 인코딩\n",
    "h = [[0.999, 0.0001, 0], [0, 0.99, 0], [0.001, 0.1, 0.88]] # 정확한 예측이 나왔다"
   ]
  }
 ],
 "metadata": {
  "kernelspec": {
   "display_name": "Python 3",
   "language": "python",
   "name": "python3"
  },
  "language_info": {
   "codemirror_mode": {
    "name": "ipython",
    "version": 3
   },
   "file_extension": ".py",
   "mimetype": "text/x-python",
   "name": "python",
   "nbconvert_exporter": "python",
   "pygments_lexer": "ipython3",
   "version": "3.6.3"
  }
 },
 "nbformat": 4,
 "nbformat_minor": 2
}
