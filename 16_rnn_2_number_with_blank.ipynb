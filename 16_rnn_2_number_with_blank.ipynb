{
 "cells": [
  {
   "cell_type": "code",
   "execution_count": 1,
   "metadata": {},
   "outputs": [],
   "source": [
    "import tensorflow as tf\n",
    "from tensorflow import keras\n",
    "import numpy as np\n",
    "import matplotlib.pyplot as plt\n",
    "from sklearn.datasets import load_digits"
   ]
  },
  {
   "cell_type": "code",
   "execution_count": 2,
   "metadata": {},
   "outputs": [],
   "source": [
    "tf.keras.backend.set_floatx('float32')"
   ]
  },
  {
   "cell_type": "code",
   "execution_count": 3,
   "metadata": {},
   "outputs": [
    {
     "data": {
      "text/plain": [
       "((1797, 64), (1797,), {0, 1, 2, 3, 4, 5, 6, 7, 8, 9})"
      ]
     },
     "execution_count": 3,
     "metadata": {},
     "output_type": "execute_result"
    }
   ],
   "source": [
    "x, y = load_digits(return_X_y=True)\n",
    "x.shape, y.shape, set(y)"
   ]
  },
  {
   "cell_type": "markdown",
   "metadata": {},
   "source": [
    "학습 데이터와 테스트 데이터를 나눕니다."
   ]
  },
  {
   "cell_type": "code",
   "execution_count": 4,
   "metadata": {},
   "outputs": [
    {
     "data": {
      "text/plain": [
       "((898, 64), (898,))"
      ]
     },
     "execution_count": 4,
     "metadata": {},
     "output_type": "execute_result"
    }
   ],
   "source": [
    "m = len(y)//2\n",
    "x_train = x[:m]\n",
    "y_train = y[:m]\n",
    "x_test = x[m:m*2]\n",
    "y_test = y[m:m*2]\n",
    "x_test.shape, y_test.shape"
   ]
  },
  {
   "cell_type": "code",
   "execution_count": 5,
   "metadata": {},
   "outputs": [],
   "source": [
    "def convert_2_num(x_test, y_test):\n",
    "    x_test = np.reshape(x_test, [-1, 8, 8])\n",
    "    x_test_l, x_test_r = np.split(x_test, 2, axis=0) \n",
    "    x_test_lr = np.concatenate((x_test_l, x_test_r), axis=2)\n",
    "    y_test_l, y_test_r = np.split(y_test, 2, axis=0) \n",
    "    y_test = np.stack((y_test_l, y_test_r), -1)\n",
    "\n",
    "    #우측에 비어있는 이미지를 붙여서 한자리수 데이터를 만듭니다\n",
    "    BLANK = 10 #'없음' 을 나타내는 기호\n",
    "    x_test_blank = np.concatenate((x_test_l, np.zeros_like(x_test_r)), axis=2)\n",
    "    y_test_blank = np.stack((y_test_l, np.zeros_like(y_test_l) + BLANK), 1)#좌측 영상의 y와 빈 영상의 y를 통합\n",
    "\n",
    "    #두자리수 데이터와 한자리수 데이터를 통합합니다\n",
    "    x_test_set = np.concatenate((x_test_lr, x_test_blank), 0)# 두자리수 영상과 한자리수 영상을 통합\n",
    "    y_test_set = np.concatenate((y_test, y_test_blank), 0)#두자리수 y와 한자리수 y 를 통합\n",
    "    return x_test_set,  y_test_set"
   ]
  },
  {
   "cell_type": "code",
   "execution_count": 6,
   "metadata": {},
   "outputs": [],
   "source": [
    "x_test_set,  y_test_set = convert_2_num(x_test, y_test)\n",
    "x_train_set,  y_train_set = convert_2_num(x_train, y_train)"
   ]
  },
  {
   "cell_type": "code",
   "execution_count": 7,
   "metadata": {},
   "outputs": [
    {
     "data": {
      "text/plain": [
       "<matplotlib.image.AxesImage at 0xedc497e508>"
      ]
     },
     "execution_count": 7,
     "metadata": {},
     "output_type": "execute_result"
    },
    {
     "data": {
      "image/png": "[encoded data removed]",
      "text/plain": [
       "<Figure size 432x288 with 1 Axes>"
      ]
     },
     "metadata": {
      "needs_background": "light"
     },
     "output_type": "display_data"
    }
   ],
   "source": [
    "i = 11\n",
    "plt.title('y: '+str(y_test_set[i]))\n",
    "plt.imshow(x_test_set[i].reshape((8,-1)))"
   ]
  },
  {
   "cell_type": "code",
   "execution_count": 22,
   "metadata": {},
   "outputs": [
    {
     "ename": "SyntaxError",
     "evalue": "invalid syntax (<ipython-input-22-d30f940e8560>, line 6)",
     "output_type": "error",
     "traceback": [
      "\u001b[1;36m  File \u001b[1;32m\"<ipython-input-22-d30f940e8560>\"\u001b[1;36m, line \u001b[1;32m6\u001b[0m\n\u001b[1;33m    self.cell = keras.\u001b[0m\n\u001b[1;37m                      ^\u001b[0m\n\u001b[1;31mSyntaxError\u001b[0m\u001b[1;31m:\u001b[0m invalid syntax\n"
     ]
    }
   ],
   "source": [
    "class MyModel(keras.Model):\n",
    "    def __init__(self):    \n",
    "        super(MyModel, self).__init__()\n",
    "        self.k = 10+1 # 클래스 갯수 \n",
    "        self.seq = 2 # 자릿수\n",
    "        self.opt = tf.optimizers.Nadam(learning_rate=0.01)#Stochatic Gradient Descent 확률적 경사 하강\n",
    "        self.conv0 = keras.layers.Conv2D(16, [3,3], padding='same', activation=keras.activations.elu)\n",
    "        self.conv1 = keras.layers.Conv2D(32, [3,3], padding='same', activation=keras.activations.elu)\n",
    "        self.pool0 = keras.layers.MaxPool2D([2,2], padding='same')\n",
    "        self.pool1 = keras.layers.MaxPool2D([2,2], padding='same')    \n",
    "        self.lstm = keras.layers.LSTM(units=self.k, return_sequences=True)\n",
    "        self.rnn = keras.layers.RNN(cell=self.k, return_sequences=True)\n",
    "        self.GRU = keras.layers.GRU(units=self.k, return_sequences=True)\n",
    "    \n",
    "    def call(self, x):\n",
    "        #x (1797, 64)\n",
    "        x_4d = tf.reshape(x, [-1,8,8*2,1]) \n",
    "        x_4d = tf.cast(x_4d, tf.float32)\n",
    "        net = self.conv0(x_4d)\n",
    "        net = self.pool0(net)#(4,8,16)\n",
    "        net = self.conv1(net)\n",
    "        net = self.pool1(net)#(2,4,32)\n",
    "#         net = self.pool1(net)#(1,2,32)\n",
    "#         net = tf.squeeze(net, axis=1)#(2,32)\n",
    "        net = tf.reduce_sum(net, axis=1) # (4,32) 4개의 시퀀스\n",
    "        h = self.lstm(net)#(2,10)        # 4개의 output\n",
    "        h = h[:,2:] # 앞에 2개의 output은 버리고 뒤의 2개의 output만 사용\n",
    "        h = tf.nn.softmax(h, axis=2)\n",
    "        return h\n",
    "\n",
    "    def get_loss(self, y, h):\n",
    "        #학습할때 nan이 발생하는 경우 값을 clip(자르다) (최소값, 최대값) \n",
    "        h = tf.clip_by_value(h, 1e-8, 1 - 1e-8) # h 가 0이나 1이 되지 않도록 하는 안전장치 \n",
    "        cross_entropy = - (y * tf.math.log(h) + (1 - y) * tf.math.log(1 - h)) \n",
    "        loss = tf.reduce_mean(cross_entropy)\n",
    "        return loss\n",
    "\n",
    "    def get_accuracy(self, y, h):    \n",
    "        predict = tf.argmax(h, -1)\n",
    "        is_equal = tf.equal(y, predict)\n",
    "        self.acc = tf.reduce_mean(tf.cast(is_equal, tf.float32)) # True > 1, False > 0 로 cast\n",
    "        self.acc_all = tf.reduce_mean(tf.cast(tf.reduce_all(is_equal, axis=1), tf.float32))\n",
    "\n",
    "    def fit(self, x, y, epoch=1):\n",
    "        # x : (m, 8, 16), y: (m, 2)    \n",
    "        y_hot = tf.one_hot(y, depth=self.k, axis=-1)#(m, 2, 10)  \n",
    "        for i in range(epoch):\n",
    "            with tf.GradientTape() as tape: #경사 기록 장치\n",
    "                h = self.call(x)\n",
    "                loss = self.get_loss(y_hot, h)        \n",
    "            grads = tape.gradient(loss, self.trainable_variables) #경사 계산\n",
    "            #경사가 너무 크면 nan 이 될 수 있으므로 gradient cliping (최소,최대값 제한) 을 합니다\n",
    "            grads = [(tf.clip_by_value(grad, -5.0, 5.0)) for grad in grads]      \n",
    "            self.opt.apply_gradients(zip(grads, self.trainable_variables)) # 가중치에서 경사를 빼기\n",
    "            self.get_accuracy(y, h)\n",
    "            if i%10==0:\n",
    "                print('%d/%d loss:%.3f acc:%.3f acc_all:%.3f'%(i, epoch, loss, self.acc, self.acc_all))\n",
    "model = MyModel()"
   ]
  },
  {
   "cell_type": "code",
   "execution_count": 23,
   "metadata": {},
   "outputs": [
    {
     "name": "stdout",
     "output_type": "stream",
     "text": [
      "0/100 loss:0.240 acc:0.357 acc_all:0.098\n",
      "10/100 loss:0.239 acc:0.425 acc_all:0.171\n",
      "20/100 loss:0.234 acc:0.403 acc_all:0.143\n",
      "30/100 loss:0.220 acc:0.404 acc_all:0.130\n",
      "40/100 loss:0.220 acc:0.452 acc_all:0.157\n",
      "50/100 loss:0.208 acc:0.404 acc_all:0.127\n",
      "60/100 loss:0.208 acc:0.418 acc_all:0.140\n",
      "70/100 loss:0.204 acc:0.427 acc_all:0.148\n",
      "80/100 loss:0.206 acc:0.420 acc_all:0.145\n",
      "90/100 loss:0.203 acc:0.429 acc_all:0.147\n"
     ]
    }
   ],
   "source": [
    "model.fit(x_train_set, y_train_set, epoch=100) #학습"
   ]
  },
  {
   "cell_type": "code",
   "execution_count": 24,
   "metadata": {},
   "outputs": [
    {
     "name": "stdout",
     "output_type": "stream",
     "text": [
      "개별정확도 0.39198217 두자리 모두 맞춘 정확도 0.1325167\n"
     ]
    }
   ],
   "source": [
    "# 테스트셋의 성능\n",
    "h = model(x_test_set)\n",
    "model.get_accuracy(y_test_set, h)\n",
    "print('개별정확도',model.acc.numpy(),'두자리 모두 맞춘 정확도', model.acc_all.numpy())"
   ]
  },
  {
   "cell_type": "code",
   "execution_count": null,
   "metadata": {},
   "outputs": [],
   "source": []
  }
 ],
 "metadata": {
  "kernelspec": {
   "display_name": "Python 3",
   "language": "python",
   "name": "python3"
  },
  "language_info": {
   "codemirror_mode": {
    "name": "ipython",
    "version": 3
   },
   "file_extension": ".py",
   "mimetype": "text/x-python",
   "name": "python",
   "nbconvert_exporter": "python",
   "pygments_lexer": "ipython3",
   "version": "3.7.4"
  }
 },
 "nbformat": 4,
 "nbformat_minor": 4
}
