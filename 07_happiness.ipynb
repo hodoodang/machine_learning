{
 "cells": [
  {
   "cell_type": "code",
   "execution_count": 9,
   "metadata": {},
   "outputs": [],
   "source": [
    "import pandas as pd\n",
    "import numpy as np\n",
    "import matplotlib.pyplot as plt\n",
    "%matplotlib inline"
   ]
  },
  {
   "cell_type": "code",
   "execution_count": 4,
   "metadata": {
    "collapsed": true
   },
   "outputs": [],
   "source": [
    "df = pd.read_excel(\"happiness.xlsx\")"
   ]
  },
  {
   "cell_type": "code",
   "execution_count": 5,
   "metadata": {},
   "outputs": [
    {
     "data": {
      "text/html": [
       "<div>\n",
       "<style>\n",
       "    .dataframe thead tr:only-child th {\n",
       "        text-align: right;\n",
       "    }\n",
       "\n",
       "    .dataframe thead th {\n",
       "        text-align: left;\n",
       "    }\n",
       "\n",
       "    .dataframe tbody tr th {\n",
       "        vertical-align: top;\n",
       "    }\n",
       "</style>\n",
       "<table border=\"1\" class=\"dataframe\">\n",
       "  <thead>\n",
       "    <tr style=\"text-align: right;\">\n",
       "      <th></th>\n",
       "      <th>맑음지수</th>\n",
       "      <th>미세먼지정도</th>\n",
       "      <th>Youtube시청시간(h)</th>\n",
       "      <th>쉬는날?</th>\n",
       "      <th>작업진행잘됨?</th>\n",
       "      <th>맛있는식사</th>\n",
       "      <th>행복지수</th>\n",
       "    </tr>\n",
       "  </thead>\n",
       "  <tbody>\n",
       "    <tr>\n",
       "      <th>너굴맨이 처리함</th>\n",
       "      <td>99</td>\n",
       "      <td>50</td>\n",
       "      <td>4</td>\n",
       "      <td>1</td>\n",
       "      <td>50</td>\n",
       "      <td>80</td>\n",
       "      <td>88</td>\n",
       "    </tr>\n",
       "    <tr>\n",
       "      <th>OHmygodkimchi</th>\n",
       "      <td>80</td>\n",
       "      <td>80</td>\n",
       "      <td>2</td>\n",
       "      <td>0</td>\n",
       "      <td>50</td>\n",
       "      <td>100</td>\n",
       "      <td>63</td>\n",
       "    </tr>\n",
       "    <tr>\n",
       "      <th>OHmybackkimchi</th>\n",
       "      <td>90</td>\n",
       "      <td>50</td>\n",
       "      <td>1</td>\n",
       "      <td>1</td>\n",
       "      <td>70</td>\n",
       "      <td>30</td>\n",
       "      <td>70</td>\n",
       "    </tr>\n",
       "    <tr>\n",
       "      <th>OHmygodanan-a-ki</th>\n",
       "      <td>30</td>\n",
       "      <td>80</td>\n",
       "      <td>5</td>\n",
       "      <td>0</td>\n",
       "      <td>85</td>\n",
       "      <td>44</td>\n",
       "      <td>80</td>\n",
       "    </tr>\n",
       "    <tr>\n",
       "      <th>Park</th>\n",
       "      <td>30</td>\n",
       "      <td>30</td>\n",
       "      <td>1</td>\n",
       "      <td>0</td>\n",
       "      <td>95</td>\n",
       "      <td>100</td>\n",
       "      <td>90</td>\n",
       "    </tr>\n",
       "    <tr>\n",
       "      <th>Yoo</th>\n",
       "      <td>0</td>\n",
       "      <td>100</td>\n",
       "      <td>0</td>\n",
       "      <td>0</td>\n",
       "      <td>0</td>\n",
       "      <td>0</td>\n",
       "      <td>0</td>\n",
       "    </tr>\n",
       "    <tr>\n",
       "      <th>Jin</th>\n",
       "      <td>60</td>\n",
       "      <td>20</td>\n",
       "      <td>1</td>\n",
       "      <td>1</td>\n",
       "      <td>90</td>\n",
       "      <td>100</td>\n",
       "      <td>100</td>\n",
       "    </tr>\n",
       "    <tr>\n",
       "      <th>HyunGoo\\n</th>\n",
       "      <td>90</td>\n",
       "      <td>20</td>\n",
       "      <td>2</td>\n",
       "      <td>0</td>\n",
       "      <td>20</td>\n",
       "      <td>80</td>\n",
       "      <td>15</td>\n",
       "    </tr>\n",
       "    <tr>\n",
       "      <th>Dave</th>\n",
       "      <td>35</td>\n",
       "      <td>10</td>\n",
       "      <td>1</td>\n",
       "      <td>1</td>\n",
       "      <td>80</td>\n",
       "      <td>55</td>\n",
       "      <td>92</td>\n",
       "    </tr>\n",
       "    <tr>\n",
       "      <th>창민아생일축하한다!!</th>\n",
       "      <td>10</td>\n",
       "      <td>10</td>\n",
       "      <td>2</td>\n",
       "      <td>1</td>\n",
       "      <td>60</td>\n",
       "      <td>20</td>\n",
       "      <td>100</td>\n",
       "    </tr>\n",
       "    <tr>\n",
       "      <th>yun2</th>\n",
       "      <td>80</td>\n",
       "      <td>60</td>\n",
       "      <td>2</td>\n",
       "      <td>1</td>\n",
       "      <td>70</td>\n",
       "      <td>90</td>\n",
       "      <td>97</td>\n",
       "    </tr>\n",
       "    <tr>\n",
       "      <th>너굴맨이처리함4</th>\n",
       "      <td>20</td>\n",
       "      <td>70</td>\n",
       "      <td>0</td>\n",
       "      <td>1</td>\n",
       "      <td>50</td>\n",
       "      <td>50</td>\n",
       "      <td>50</td>\n",
       "    </tr>\n",
       "    <tr>\n",
       "      <th>제가요 ㅎㅎ</th>\n",
       "      <td>80</td>\n",
       "      <td>50</td>\n",
       "      <td>24</td>\n",
       "      <td>0</td>\n",
       "      <td>30</td>\n",
       "      <td>20</td>\n",
       "      <td>100</td>\n",
       "    </tr>\n",
       "    <tr>\n",
       "      <th>곱등이</th>\n",
       "      <td>80</td>\n",
       "      <td>70</td>\n",
       "      <td>2</td>\n",
       "      <td>0</td>\n",
       "      <td>70</td>\n",
       "      <td>90</td>\n",
       "      <td>77</td>\n",
       "    </tr>\n",
       "    <tr>\n",
       "      <th>hh</th>\n",
       "      <td>80</td>\n",
       "      <td>80</td>\n",
       "      <td>2</td>\n",
       "      <td>1</td>\n",
       "      <td>70</td>\n",
       "      <td>80</td>\n",
       "      <td>75</td>\n",
       "    </tr>\n",
       "    <tr>\n",
       "      <th>JJ</th>\n",
       "      <td>80</td>\n",
       "      <td>60</td>\n",
       "      <td>0</td>\n",
       "      <td>0</td>\n",
       "      <td>78</td>\n",
       "      <td>60</td>\n",
       "      <td>60</td>\n",
       "    </tr>\n",
       "    <tr>\n",
       "      <th>너굴맨이처리함2</th>\n",
       "      <td>78</td>\n",
       "      <td>5</td>\n",
       "      <td>1</td>\n",
       "      <td>1</td>\n",
       "      <td>78</td>\n",
       "      <td>80</td>\n",
       "      <td>80</td>\n",
       "    </tr>\n",
       "    <tr>\n",
       "      <th>너굴맨</th>\n",
       "      <td>80</td>\n",
       "      <td>80</td>\n",
       "      <td>3</td>\n",
       "      <td>1</td>\n",
       "      <td>70</td>\n",
       "      <td>100</td>\n",
       "      <td>100</td>\n",
       "    </tr>\n",
       "    <tr>\n",
       "      <th>너굴맨이처리함3</th>\n",
       "      <td>70</td>\n",
       "      <td>50</td>\n",
       "      <td>24</td>\n",
       "      <td>0</td>\n",
       "      <td>55</td>\n",
       "      <td>100</td>\n",
       "      <td>100</td>\n",
       "    </tr>\n",
       "  </tbody>\n",
       "</table>\n",
       "</div>"
      ],
      "text/plain": [
       "                  맑음지수  미세먼지정도  Youtube시청시간(h)  쉬는날?   작업진행잘됨?  맛있는식사  행복지수\n",
       "너굴맨이 처리함            99      50               4      1       50     80    88\n",
       "OHmygodkimchi       80      80               2      0       50    100    63\n",
       "OHmybackkimchi      90      50               1      1       70     30    70\n",
       "OHmygodanan-a-ki    30      80               5      0       85     44    80\n",
       "Park                30      30               1      0       95    100    90\n",
       "Yoo                  0     100               0      0        0      0     0\n",
       "Jin                 60      20               1      1       90    100   100\n",
       "HyunGoo\\n           90      20               2      0       20     80    15\n",
       "Dave                35      10               1      1       80     55    92\n",
       "창민아생일축하한다!!         10      10               2      1       60     20   100\n",
       "yun2                80      60               2      1       70     90    97\n",
       "너굴맨이처리함4            20      70               0      1       50     50    50\n",
       "제가요 ㅎㅎ              80      50              24      0       30     20   100\n",
       "곱등이                 80      70               2      0       70     90    77\n",
       "hh                  80      80               2      1       70     80    75\n",
       "JJ                  80      60               0      0       78     60    60\n",
       "너굴맨이처리함2            78       5               1      1       78     80    80\n",
       "너굴맨                 80      80               3      1       70    100   100\n",
       "너굴맨이처리함3            70      50              24      0       55    100   100"
      ]
     },
     "execution_count": 5,
     "metadata": {},
     "output_type": "execute_result"
    }
   ],
   "source": [
    "df"
   ]
  },
  {
   "cell_type": "code",
   "execution_count": 27,
   "metadata": {
    "collapsed": true
   },
   "outputs": [],
   "source": [
    "np.set_printoptions(3, suppress=True)"
   ]
  },
  {
   "cell_type": "code",
   "execution_count": 28,
   "metadata": {},
   "outputs": [
    {
     "data": {
      "text/plain": [
       "Index(['맑음지수', '미세먼지정도', 'Youtube시청시간(h)', '쉬는날? ', '작업진행잘됨?', '맛있는식사',\n",
       "       '행복지수'],\n",
       "      dtype='object')"
      ]
     },
     "execution_count": 28,
     "metadata": {},
     "output_type": "execute_result"
    }
   ],
   "source": [
    "df.columns"
   ]
  },
  {
   "cell_type": "code",
   "execution_count": 6,
   "metadata": {},
   "outputs": [
    {
     "data": {
      "text/plain": [
       "0"
      ]
     },
     "execution_count": 6,
     "metadata": {},
     "output_type": "execute_result"
    }
   ],
   "source": [
    "# 누락 갯수\n",
    "df.isnull().sum().sum()"
   ]
  },
  {
   "cell_type": "code",
   "execution_count": 7,
   "metadata": {},
   "outputs": [
    {
     "data": {
      "text/plain": [
       "0"
      ]
     },
     "execution_count": 7,
     "metadata": {},
     "output_type": "execute_result"
    }
   ],
   "source": [
    "#유효성 검사\n",
    "(df < 0).sum().sum()"
   ]
  },
  {
   "cell_type": "markdown",
   "metadata": {},
   "source": [
    "### 상관계수"
   ]
  },
  {
   "cell_type": "code",
   "execution_count": 12,
   "metadata": {},
   "outputs": [
    {
     "data": {
      "text/plain": [
       "<matplotlib.axes._subplots.AxesSubplot at 0xb46d810390>"
      ]
     },
     "execution_count": 12,
     "metadata": {},
     "output_type": "execute_result"
    },
    {
     "data": {
      "image/png": "[encoded data removed]",
      "text/plain": [
       "<matplotlib.figure.Figure at 0xb477620fd0>"
      ]
     },
     "metadata": {},
     "output_type": "display_data"
    }
   ],
   "source": [
    "df[['맑음지수', '행복지수']].plot()"
   ]
  },
  {
   "cell_type": "code",
   "execution_count": 14,
   "metadata": {},
   "outputs": [
    {
     "data": {
      "text/plain": [
       "<matplotlib.axes._subplots.AxesSubplot at 0xb46d8100b8>"
      ]
     },
     "execution_count": 14,
     "metadata": {},
     "output_type": "execute_result"
    },
    {
     "data": {
      "image/png": "[encoded data removed]",
      "text/plain": [
       "<matplotlib.figure.Figure at 0xb4747b3cc0>"
      ]
     },
     "metadata": {},
     "output_type": "display_data"
    }
   ],
   "source": [
    "df[['Youtube시청시간(h)', '행복지수']].plot()"
   ]
  },
  {
   "cell_type": "markdown",
   "metadata": {},
   "source": [
    "corr()이 제일 확실하다."
   ]
  },
  {
   "cell_type": "code",
   "execution_count": 29,
   "metadata": {},
   "outputs": [
    {
     "data": {
      "text/html": [
       "<div>\n",
       "<style>\n",
       "    .dataframe thead tr:only-child th {\n",
       "        text-align: right;\n",
       "    }\n",
       "\n",
       "    .dataframe thead th {\n",
       "        text-align: left;\n",
       "    }\n",
       "\n",
       "    .dataframe tbody tr th {\n",
       "        vertical-align: top;\n",
       "    }\n",
       "</style>\n",
       "<table border=\"1\" class=\"dataframe\">\n",
       "  <thead>\n",
       "    <tr style=\"text-align: right;\">\n",
       "      <th></th>\n",
       "      <th>맑음지수</th>\n",
       "      <th>미세먼지정도</th>\n",
       "      <th>Youtube시청시간(h)</th>\n",
       "      <th>쉬는날?</th>\n",
       "      <th>작업진행잘됨?</th>\n",
       "      <th>맛있는식사</th>\n",
       "      <th>행복지수</th>\n",
       "    </tr>\n",
       "  </thead>\n",
       "  <tbody>\n",
       "    <tr>\n",
       "      <th>맑음지수</th>\n",
       "      <td>1.000000</td>\n",
       "      <td>-0.016246</td>\n",
       "      <td>0.196877</td>\n",
       "      <td>0.054029</td>\n",
       "      <td>0.074477</td>\n",
       "      <td>0.503027</td>\n",
       "      <td>0.195411</td>\n",
       "    </tr>\n",
       "    <tr>\n",
       "      <th>미세먼지정도</th>\n",
       "      <td>-0.016246</td>\n",
       "      <td>1.000000</td>\n",
       "      <td>0.011971</td>\n",
       "      <td>-0.298306</td>\n",
       "      <td>-0.299184</td>\n",
       "      <td>-0.101656</td>\n",
       "      <td>-0.328178</td>\n",
       "    </tr>\n",
       "    <tr>\n",
       "      <th>Youtube시청시간(h)</th>\n",
       "      <td>0.196877</td>\n",
       "      <td>0.011971</td>\n",
       "      <td>1.000000</td>\n",
       "      <td>-0.356586</td>\n",
       "      <td>-0.248312</td>\n",
       "      <td>-0.043289</td>\n",
       "      <td>0.359052</td>\n",
       "    </tr>\n",
       "    <tr>\n",
       "      <th>쉬는날?</th>\n",
       "      <td>0.054029</td>\n",
       "      <td>-0.298306</td>\n",
       "      <td>-0.356586</td>\n",
       "      <td>1.000000</td>\n",
       "      <td>0.318821</td>\n",
       "      <td>0.040042</td>\n",
       "      <td>0.364067</td>\n",
       "    </tr>\n",
       "    <tr>\n",
       "      <th>작업진행잘됨?</th>\n",
       "      <td>0.074477</td>\n",
       "      <td>-0.299184</td>\n",
       "      <td>-0.248312</td>\n",
       "      <td>0.318821</td>\n",
       "      <td>1.000000</td>\n",
       "      <td>0.458281</td>\n",
       "      <td>0.660947</td>\n",
       "    </tr>\n",
       "    <tr>\n",
       "      <th>맛있는식사</th>\n",
       "      <td>0.503027</td>\n",
       "      <td>-0.101656</td>\n",
       "      <td>-0.043289</td>\n",
       "      <td>0.040042</td>\n",
       "      <td>0.458281</td>\n",
       "      <td>1.000000</td>\n",
       "      <td>0.344156</td>\n",
       "    </tr>\n",
       "    <tr>\n",
       "      <th>행복지수</th>\n",
       "      <td>0.195411</td>\n",
       "      <td>-0.328178</td>\n",
       "      <td>0.359052</td>\n",
       "      <td>0.364067</td>\n",
       "      <td>0.660947</td>\n",
       "      <td>0.344156</td>\n",
       "      <td>1.000000</td>\n",
       "    </tr>\n",
       "  </tbody>\n",
       "</table>\n",
       "</div>"
      ],
      "text/plain": [
       "                    맑음지수    미세먼지정도  Youtube시청시간(h)     쉬는날?    작업진행잘됨?  \\\n",
       "맑음지수            1.000000 -0.016246        0.196877  0.054029  0.074477   \n",
       "미세먼지정도         -0.016246  1.000000        0.011971 -0.298306 -0.299184   \n",
       "Youtube시청시간(h)  0.196877  0.011971        1.000000 -0.356586 -0.248312   \n",
       "쉬는날?            0.054029 -0.298306       -0.356586  1.000000  0.318821   \n",
       "작업진행잘됨?         0.074477 -0.299184       -0.248312  0.318821  1.000000   \n",
       "맛있는식사           0.503027 -0.101656       -0.043289  0.040042  0.458281   \n",
       "행복지수            0.195411 -0.328178        0.359052  0.364067  0.660947   \n",
       "\n",
       "                   맛있는식사      행복지수  \n",
       "맑음지수            0.503027  0.195411  \n",
       "미세먼지정도         -0.101656 -0.328178  \n",
       "Youtube시청시간(h) -0.043289  0.359052  \n",
       "쉬는날?            0.040042  0.364067  \n",
       "작업진행잘됨?         0.458281  0.660947  \n",
       "맛있는식사           1.000000  0.344156  \n",
       "행복지수            0.344156  1.000000  "
      ]
     },
     "execution_count": 29,
     "metadata": {},
     "output_type": "execute_result"
    }
   ],
   "source": [
    "df.corr() # 상관계수 1, 0:상관없음, -1:음의상관"
   ]
  },
  {
   "cell_type": "code",
   "execution_count": 30,
   "metadata": {},
   "outputs": [
    {
     "data": {
      "text/plain": [
       "<matplotlib.axes._subplots.AxesSubplot at 0xb479e07f28>"
      ]
     },
     "execution_count": 30,
     "metadata": {},
     "output_type": "execute_result"
    },
    {
     "data": {
      "image/png": "[encoded data removed]",
      "text/plain": [
       "<matplotlib.figure.Figure at 0xb479e07da0>"
      ]
     },
     "metadata": {},
     "output_type": "display_data"
    }
   ],
   "source": [
    "df.plot.box()"
   ]
  },
  {
   "cell_type": "code",
   "execution_count": 31,
   "metadata": {
    "collapsed": true
   },
   "outputs": [],
   "source": [
    "from sklearn.linear_model import LinearRegression"
   ]
  },
  {
   "cell_type": "code",
   "execution_count": 32,
   "metadata": {
    "collapsed": true
   },
   "outputs": [],
   "source": [
    "x = df.drop('행복지수', axis=1)\n",
    "y = df['행복지수']"
   ]
  },
  {
   "cell_type": "code",
   "execution_count": 33,
   "metadata": {},
   "outputs": [],
   "source": [
    "x = np.array(x)\n",
    "y = np.array(y)"
   ]
  },
  {
   "cell_type": "code",
   "execution_count": 34,
   "metadata": {
    "collapsed": true
   },
   "outputs": [],
   "source": [
    "model = LinearRegression().fit(x,y)"
   ]
  },
  {
   "cell_type": "code",
   "execution_count": 35,
   "metadata": {},
   "outputs": [
    {
     "data": {
      "text/plain": [
       "0.84775437464331627"
      ]
     },
     "execution_count": 35,
     "metadata": {},
     "output_type": "execute_result"
    }
   ],
   "source": [
    "model.score(x,y)"
   ]
  },
  {
   "cell_type": "code",
   "execution_count": 36,
   "metadata": {},
   "outputs": [
    {
     "data": {
      "text/plain": [
       "(array([ -0.042,  -0.013,   2.692,  21.426,   0.786,   0.063]),\n",
       " 4.0207491569018572)"
      ]
     },
     "execution_count": 36,
     "metadata": {},
     "output_type": "execute_result"
    }
   ],
   "source": [
    "model.coef_, model.intercept_"
   ]
  },
  {
   "cell_type": "markdown",
   "metadata": {},
   "source": [
    "맑음지수가 1 높아지면 행복지수 0.04감소  \n",
    "미세먼지가 1 높아지면 행복지수 0.01감소  \n",
    "youtube의 시청시간이 증가할수록 시간당 행복지수 2증가  \n",
    "쉬는날이면 +21 아니면 0  \n",
    "작업 만족도가 1증가하면 행복지수 0.7증가  \n",
    "식사의 만족도가 1증가하면 행복지수 0.06 증가  "
   ]
  },
  {
   "cell_type": "code",
   "execution_count": 26,
   "metadata": {},
   "outputs": [
    {
     "data": {
      "text/plain": [
       "<matplotlib.legend.Legend at 0xb479b63e48>"
      ]
     },
     "execution_count": 26,
     "metadata": {},
     "output_type": "execute_result"
    },
    {
     "data": {
      "image/png": "[encoded data removed]",
      "text/plain": [
       "<matplotlib.figure.Figure at 0xb477bd3a58>"
      ]
     },
     "metadata": {},
     "output_type": "display_data"
    }
   ],
   "source": [
    "plt.figure(figsize=(15,5))\n",
    "plt.plot(y, label=\"y\")\n",
    "plt.plot(model.predict(x), label=\"predict\")\n",
    "plt.legend()"
   ]
  }
 ],
 "metadata": {
  "kernelspec": {
   "display_name": "Python 3",
   "language": "python",
   "name": "python3"
  },
  "language_info": {
   "codemirror_mode": {
    "name": "ipython",
    "version": 3
   },
   "file_extension": ".py",
   "mimetype": "text/x-python",
   "name": "python",
   "nbconvert_exporter": "python",
   "pygments_lexer": "ipython3",
   "version": "3.6.3"
  }
 },
 "nbformat": 4,
 "nbformat_minor": 2
}
