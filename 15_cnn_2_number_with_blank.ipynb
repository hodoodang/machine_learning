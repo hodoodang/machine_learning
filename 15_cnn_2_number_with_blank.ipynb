{
 "cells": [
  {
   "cell_type": "code",
   "execution_count": 1,
   "metadata": {},
   "outputs": [],
   "source": [
    "import tensorflow as tf\n",
    "from tensorflow import keras\n",
    "import numpy as np\n",
    "import matplotlib.pyplot as plt\n",
    "import pandas as pd\n",
    "from sklearn.datasets import load_digits\n",
    "%matplotlib inline"
   ]
  },
  {
   "cell_type": "code",
   "execution_count": 2,
   "metadata": {},
   "outputs": [
    {
     "data": {
      "text/plain": [
       "((1797, 64), (1797,), {0, 1, 2, 3, 4, 5, 6, 7, 8, 9})"
      ]
     },
     "execution_count": 2,
     "metadata": {},
     "output_type": "execute_result"
    }
   ],
   "source": [
    "x, y = load_digits(return_X_y = True)\n",
    "x.shape, y.shape, set(y)"
   ]
  },
  {
   "cell_type": "code",
   "execution_count": 4,
   "metadata": {},
   "outputs": [
    {
     "data": {
      "text/plain": [
       "((898, 8, 8), (898,))"
      ]
     },
     "execution_count": 4,
     "metadata": {},
     "output_type": "execute_result"
    }
   ],
   "source": [
    "m = len(y) // 2\n",
    "x_train, x_test = x[:m], x[m:m*2]\n",
    "y_train, y_test = y[:m], y[m:m*2]\n",
    "x_train = np.reshape(x_train, [-1, 8, 8])\n",
    "x_test = np.reshape(x_test, [-1, 8, 8])\n",
    "x_train.shape, y_train.shape"
   ]
  },
  {
   "cell_type": "code",
   "execution_count": 6,
   "metadata": {},
   "outputs": [
    {
     "data": {
      "text/plain": [
       "((449, 8, 16), (449, 2))"
      ]
     },
     "execution_count": 6,
     "metadata": {},
     "output_type": "execute_result"
    }
   ],
   "source": [
    "x_train_l, x_train_r = np.split(x_train, 2, axis=0) \n",
    "x_train_lr = np.concatenate((x_train_l, x_train_r), axis=2)\n",
    "y_train_l, y_train_r = np.split(y_train, 2, axis=0) \n",
    "y_train = np.stack((y_train_l, y_train_r), -1)\n",
    "x_train_lr.shape, y_train.shape"
   ]
  },
  {
   "cell_type": "code",
   "execution_count": 7,
   "metadata": {},
   "outputs": [
    {
     "data": {
      "text/plain": [
       "((449, 8, 16), (449, 2))"
      ]
     },
     "execution_count": 7,
     "metadata": {},
     "output_type": "execute_result"
    }
   ],
   "source": [
    "x_test_l, x_test_r = np.split(x_test, 2, axis=0) \n",
    "x_test_lr = np.concatenate((x_test_l, x_test_r), axis=2)\n",
    "y_test_l, y_test_r = np.split(y_test, 2, axis=0) \n",
    "y_test = np.stack((y_test_l, y_test_r), -1)\n",
    "x_test_lr.shape, y_test.shape"
   ]
  },
  {
   "cell_type": "markdown",
   "metadata": {},
   "source": [
    "train"
   ]
  },
  {
   "cell_type": "code",
   "execution_count": 11,
   "metadata": {},
   "outputs": [],
   "source": [
    "BLANK = 10 #'없음' 을 나타내는 기호\n",
    "x_train_blank = np.concatenate((x_train_l, np.zeros_like(x_train_r)), axis=2)\n",
    "y_train_blank = np.stack((y_train_l, np.zeros_like(y_train_l) + BLANK), 1)#좌측 영상의 y와 빈 영상의 y를 통합"
   ]
  },
  {
   "cell_type": "code",
   "execution_count": 12,
   "metadata": {},
   "outputs": [
    {
     "data": {
      "text/plain": [
       "((898, 8, 16), (898, 2))"
      ]
     },
     "execution_count": 12,
     "metadata": {},
     "output_type": "execute_result"
    }
   ],
   "source": [
    "x_train_set = np.concatenate((x_train_lr, x_train_blank), 0)# 두자리수 영상과 한자리수 영상을 통합\n",
    "y_train_set = np.concatenate((y_train, y_train_blank), 0)#두자리수 y와 한자리수 y 를 통합\n",
    "x_train_set.shape, y_train_set.shape"
   ]
  },
  {
   "cell_type": "code",
   "execution_count": 15,
   "metadata": {},
   "outputs": [
    {
     "data": {
      "text/plain": [
       "<matplotlib.image.AxesImage at 0xce4f85a1c8>"
      ]
     },
     "execution_count": 15,
     "metadata": {},
     "output_type": "execute_result"
    },
    {
     "data": {
      "image/png": "[encoded data removed]",
      "text/plain": [
       "<Figure size 432x288 with 1 Axes>"
      ]
     },
     "metadata": {
      "needs_background": "light"
     },
     "output_type": "display_data"
    }
   ],
   "source": [
    "i = 0\n",
    "plt.title('y: '+str(y_train_set[i]))\n",
    "plt.imshow(x_train_set[i].reshape((8,-1)))"
   ]
  },
  {
   "cell_type": "markdown",
   "metadata": {},
   "source": [
    "test"
   ]
  },
  {
   "cell_type": "code",
   "execution_count": 13,
   "metadata": {},
   "outputs": [],
   "source": [
    "BLANK = 10 #'없음' 을 나타내는 기호\n",
    "x_test_blank = np.concatenate((x_test_l, np.zeros_like(x_test_r)), axis=2)\n",
    "y_test_blank = np.stack((y_test_l, np.zeros_like(y_test_l) + BLANK), 1)#좌측 영상의 y와 빈 영상의 y를 통합"
   ]
  },
  {
   "cell_type": "code",
   "execution_count": 14,
   "metadata": {},
   "outputs": [
    {
     "data": {
      "text/plain": [
       "((898, 8, 16), (898, 2))"
      ]
     },
     "execution_count": 14,
     "metadata": {},
     "output_type": "execute_result"
    }
   ],
   "source": [
    "x_test_set = np.concatenate((x_test_lr, x_test_blank), 0)# 두자리수 영상과 한자리수 영상을 통합\n",
    "y_test_set = np.concatenate((y_test, y_test_blank), 0)#두자리수 y와 한자리수 y 를 통합\n",
    "x_test_set.shape, y_test_set.shape"
   ]
  },
  {
   "cell_type": "code",
   "execution_count": 16,
   "metadata": {},
   "outputs": [
    {
     "data": {
      "text/plain": [
       "<matplotlib.image.AxesImage at 0xce4f948a88>"
      ]
     },
     "execution_count": 16,
     "metadata": {},
     "output_type": "execute_result"
    },
    {
     "data": {
      "image/png": "[encoded data removed]",
      "text/plain": [
       "<Figure size 432x288 with 1 Axes>"
      ]
     },
     "metadata": {
      "needs_background": "light"
     },
     "output_type": "display_data"
    }
   ],
   "source": [
    "i = 0\n",
    "plt.title('y: '+str(y_test_set[i]))\n",
    "plt.imshow(x_test_set[i].reshape((8,-1)))"
   ]
  },
  {
   "cell_type": "code",
   "execution_count": 32,
   "metadata": {},
   "outputs": [],
   "source": [
    "class MyModel(keras.Model):\n",
    "    def __init__(self):    \n",
    "        super(MyModel, self).__init__()\n",
    "        self.k = 10+1 # 클래스 갯수 \n",
    "        self.seq = 2 # 자릿수\n",
    "        self.opt = tf.optimizers.Nadam()#Stochatic Gradient Descent 확률적 경사 하강\n",
    "        self.conv0 = keras.layers.Conv2D(128, [3,3], padding='same', activation=keras.activations.relu)\n",
    "        self.conv1 = keras.layers.Conv2D(128, [3,3], padding='same', activation=keras.activations.relu)\n",
    "        self.pool0 = keras.layers.MaxPool2D([2,2], padding='same')\n",
    "        self.pool1 = keras.layers.MaxPool2D([2,2], padding='same')\n",
    "        self.flatten = keras.layers.Flatten()\n",
    "        self.drop0 = keras.layers.Dropout(0.5)\n",
    "        self.drop1 = keras.layers.Dropout(0.5)\n",
    "        self.batch0 = keras.layers.BatchNormalization()\n",
    "        self.batch1 = keras.layers.BatchNormalization()\n",
    "        self.dense0 = keras.layers.Dense(64)\n",
    "        self.batch2 = keras.layers.BatchNormalization()\n",
    "        self.dense = keras.layers.Dense(units=self.k * self.seq)\n",
    "  \n",
    "    def call(self, x):\n",
    "        #x (1797, 64)\n",
    "        x_4d = tf.reshape(x, [-1,8,8*2,1]) \n",
    "        x_4d = tf.cast(x_4d, tf.float32)\n",
    "        net = self.conv0(x_4d)\n",
    "        net = self.batch0(net)\n",
    "        net = self.pool0(net)\n",
    "        net = self.drop0(net)\n",
    "        net = self.conv1(net)\n",
    "        net = self.batch1(net)\n",
    "        net = self.pool1(net)\n",
    "        net = self.drop1(net)\n",
    "        net = self.flatten(net)\n",
    "        net = self.dense0(net)\n",
    "        net = self.batch2(net)\n",
    "        h = self.dense(net)\n",
    "        h = tf.reshape(h, [-1, self.seq, self.k]) # 2:두자리수, 10:10개의 클래스 \n",
    "        h = tf.nn.softmax(h, axis=2)\n",
    "        return h\n",
    "    \n",
    "    def get_loss(self, y, h):\n",
    "        #학습할때 nan이 발생하는 경우 값을 clip(자르다) (최소값, 최대값) \n",
    "        h = tf.clip_by_value(h, 1e-8, 1 - 1e-8) # h 가 0이나 1이 되지 않도록 하는 안전장치 \n",
    "        cross_entropy = - (y * tf.math.log(h) + (1 - y) * tf.math.log(1 - h)) \n",
    "        loss = tf.reduce_mean(cross_entropy)\n",
    "        return loss\n",
    "\n",
    "    def get_accuracy(self, y, h):    \n",
    "        predict = tf.argmax(h, -1)\n",
    "        is_equal = tf.equal(y, predict)\n",
    "        self.acc = tf.reduce_mean(tf.cast(is_equal, tf.float32)) # True > 1, False > 0 로 cast\n",
    "        self.acc_all = tf.reduce_mean(tf.cast(tf.reduce_all(is_equal, axis=1), tf.float32))\n",
    "\n",
    "    def fit(self, x, y, epoch=1):\n",
    "        # x : (m, 8, 16), y: (m, 2)    \n",
    "        y_hot = tf.one_hot(y, depth=self.k, axis=-1)#(m, 2, 10)  \n",
    "        for i in range(epoch):\n",
    "            with tf.GradientTape() as tape: #경사 기록 장치\n",
    "                h = self.call(x)\n",
    "                loss = self.get_loss(y_hot, h)        \n",
    "            grads = tape.gradient(loss, self.trainable_variables) #경사 계산\n",
    "            self.opt.apply_gradients(zip(grads, self.trainable_variables)) # 가중치에서 경사를 빼기\n",
    "            self.get_accuracy(y, h)\n",
    "            if i%10==0:\n",
    "                print('%d/%d loss:%.3f acc:%.3f acc_all:%.3f'%(i, epoch, loss, self.acc, self.acc_all))\n",
    "model = MyModel()"
   ]
  },
  {
   "cell_type": "code",
   "execution_count": 33,
   "metadata": {},
   "outputs": [
    {
     "name": "stdout",
     "output_type": "stream",
     "text": [
      "0/100 loss:0.446 acc:0.077 acc_all:0.002\n",
      "10/100 loss:0.179 acc:0.614 acc_all:0.432\n",
      "20/100 loss:0.137 acc:0.767 acc_all:0.592\n",
      "30/100 loss:0.047 acc:0.932 acc_all:0.869\n",
      "40/100 loss:0.019 acc:0.986 acc_all:0.972\n",
      "50/100 loss:0.011 acc:0.987 acc_all:0.973\n",
      "60/100 loss:0.004 acc:1.000 acc_all:1.000\n",
      "70/100 loss:0.003 acc:1.000 acc_all:1.000\n",
      "80/100 loss:0.002 acc:1.000 acc_all:1.000\n",
      "90/100 loss:0.001 acc:1.000 acc_all:1.000\n"
     ]
    }
   ],
   "source": [
    "model.fit(x_train_set, y_train_set, epoch=100) #학습"
   ]
  },
  {
   "cell_type": "code",
   "execution_count": 34,
   "metadata": {},
   "outputs": [
    {
     "name": "stdout",
     "output_type": "stream",
     "text": [
      "WARNING:tensorflow:Layer my_model_5 is casting an input tensor from dtype float64 to the layer's dtype of float32, which is new behavior in TensorFlow 2.  The layer has dtype float32 because it's dtype defaults to floatx.\n",
      "\n",
      "If you intended to run this layer in float32, you can safely ignore this warning. If in doubt, this warning is likely only an issue if you are porting a TensorFlow 1.X model to TensorFlow 2.\n",
      "\n",
      "To change all layers to have dtype float64 by default, call `tf.keras.backend.set_floatx('float64')`. To change just this layer, pass dtype='float64' to the layer constructor. If you are the author of this layer, you can disable autocasting by passing autocast=False to the base Layer constructor.\n",
      "\n",
      "개별정확도 0.9404232 두자리 모두 맞춘 정확도 0.8841871\n"
     ]
    }
   ],
   "source": [
    "# 테스트셋의 성능\n",
    "h = model(x_test_set)\n",
    "model.get_accuracy(y_test_set, h)\n",
    "print('개별정확도',model.acc.numpy(),'두자리 모두 맞춘 정확도', model.acc_all.numpy())"
   ]
  }
 ],
 "metadata": {
  "kernelspec": {
   "display_name": "Python 3",
   "language": "python",
   "name": "python3"
  },
  "language_info": {
   "codemirror_mode": {
    "name": "ipython",
    "version": 3
   },
   "file_extension": ".py",
   "mimetype": "text/x-python",
   "name": "python",
   "nbconvert_exporter": "python",
   "pygments_lexer": "ipython3",
   "version": "3.7.4"
  }
 },
 "nbformat": 4,
 "nbformat_minor": 4
}
