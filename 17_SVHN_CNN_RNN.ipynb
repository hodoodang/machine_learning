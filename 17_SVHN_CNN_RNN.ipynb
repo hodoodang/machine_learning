{
 "cells": [
  {
   "cell_type": "code",
   "execution_count": 116,
   "metadata": {},
   "outputs": [],
   "source": [
    "import numpy as np\n",
    "import tensorflow as tf\n",
    "import matplotlib.pyplot as plt\n",
    "from tensorflow import keras\n",
    "%matplotlib inline"
   ]
  },
  {
   "cell_type": "code",
   "execution_count": 117,
   "metadata": {},
   "outputs": [],
   "source": [
    "from scipy import io\n",
    "\n",
    "mat_file = io.loadmat('test_32x32.mat')"
   ]
  },
  {
   "cell_type": "code",
   "execution_count": 118,
   "metadata": {},
   "outputs": [
    {
     "data": {
      "text/plain": [
       "{'__header__': b'MATLAB 5.0 MAT-file, Platform: GLNXA64, Created on: Mon Dec  5 21:18:15 2011',\n",
       " '__version__': '1.0',\n",
       " '__globals__': [],\n",
       " 'X': array([[[[ 38, 129, 150, ..., 115,  96, 101],\n",
       "          [103, 142, 160, ..., 132,  65,  75],\n",
       "          [ 60, 153, 169, ..., 142,  47,  60]],\n",
       " \n",
       "         [[ 39, 127, 150, ..., 116,  97, 100],\n",
       "          [104, 143, 163, ..., 133,  65,  73],\n",
       "          [ 61, 152, 170, ..., 143,  49,  60]],\n",
       " \n",
       "         [[ 39, 125, 152, ..., 117,  97,  99],\n",
       "          [104, 143, 168, ..., 134,  65,  71],\n",
       "          [ 62, 151, 172, ..., 144,  50,  59]],\n",
       " \n",
       "         ...,\n",
       " \n",
       "         [[ 41, 121, 153, ..., 114,  86,  95],\n",
       "          [102, 133, 172, ..., 136,  61,  63],\n",
       "          [ 61, 153, 180, ..., 141,  54,  52]],\n",
       " \n",
       "         [[ 42, 123, 150, ..., 114,  87,  95],\n",
       "          [103, 134, 171, ..., 136,  62,  63],\n",
       "          [ 62, 156, 181, ..., 142,  55,  52]],\n",
       " \n",
       "         [[ 39, 123, 147, ..., 115,  88,  96],\n",
       "          [ 97, 135, 169, ..., 136,  63,  64],\n",
       "          [ 57, 157, 180, ..., 143,  56,  51]]],\n",
       " \n",
       " \n",
       "        [[[ 39, 134, 150, ..., 122,  96, 109],\n",
       "          [104, 150, 160, ..., 139,  65,  84],\n",
       "          [ 61, 160, 169, ..., 148,  48,  69]],\n",
       " \n",
       "         [[ 39, 133, 151, ..., 123,  97, 107],\n",
       "          [104, 149, 163, ..., 140,  65,  80],\n",
       "          [ 61, 158, 169, ..., 149,  50,  67]],\n",
       " \n",
       "         [[ 39, 132, 153, ..., 124,  97, 104],\n",
       "          [104, 149, 168, ..., 141,  65,  76],\n",
       "          [ 62, 157, 171, ..., 150,  51,  64]],\n",
       " \n",
       "         ...,\n",
       " \n",
       "         [[ 41, 127, 156, ..., 118,  85,  95],\n",
       "          [102, 138, 174, ..., 139,  62,  62],\n",
       "          [ 61, 157, 180, ..., 143,  53,  53]],\n",
       " \n",
       "         [[ 43, 126, 153, ..., 118,  87,  93],\n",
       "          [101, 137, 171, ..., 139,  63,  61],\n",
       "          [ 63, 157, 180, ..., 145,  54,  50]],\n",
       " \n",
       "         [[ 39, 125, 150, ..., 119,  88,  93],\n",
       "          [ 97, 137, 169, ..., 139,  64,  61],\n",
       "          [ 57, 158, 179, ..., 146,  55,  49]]],\n",
       " \n",
       " \n",
       "        [[[ 38, 141, 144, ..., 131,  96, 117],\n",
       "          [105, 158, 154, ..., 148,  64,  95],\n",
       "          [ 62, 168, 163, ..., 155,  49,  78]],\n",
       " \n",
       "         [[ 37, 140, 146, ..., 132,  96, 114],\n",
       "          [104, 157, 157, ..., 149,  64,  90],\n",
       "          [ 61, 166, 163, ..., 156,  50,  75]],\n",
       " \n",
       "         [[ 39, 140, 148, ..., 133,  96, 108],\n",
       "          [106, 157, 162, ..., 149,  64,  83],\n",
       "          [ 63, 165, 165, ..., 157,  51,  70]],\n",
       " \n",
       "         ...,\n",
       " \n",
       "         [[ 43, 135, 157, ..., 125,  87,  95],\n",
       "          [101, 147, 172, ..., 143,  66,  62],\n",
       "          [ 63, 163, 177, ..., 147,  54,  53]],\n",
       " \n",
       "         [[ 43, 132, 153, ..., 125,  90,  92],\n",
       "          [100, 143, 168, ..., 143,  68,  60],\n",
       "          [ 64, 161, 175, ..., 149,  57,  50]],\n",
       " \n",
       "         [[ 39, 130, 150, ..., 126,  91,  91],\n",
       "          [ 97, 141, 165, ..., 144,  69,  59],\n",
       "          [ 59, 160, 173, ..., 150,  58,  48]]],\n",
       " \n",
       " \n",
       "        ...,\n",
       " \n",
       " \n",
       "        [[[ 52, 147, 135, ...,  94,  99, 116],\n",
       "          [119, 161, 150, ...,  97,  68,  96],\n",
       "          [ 78, 174, 167, ..., 114,  48,  85]],\n",
       " \n",
       "         [[ 53, 142, 134, ...,  93,  99, 116],\n",
       "          [120, 156, 149, ...,  96,  70,  96],\n",
       "          [ 79, 169, 166, ..., 113,  50,  87]],\n",
       " \n",
       "         [[ 51, 136, 132, ...,  92, 100, 115],\n",
       "          [118, 151, 147, ...,  95,  73,  95],\n",
       "          [ 77, 163, 165, ..., 112,  53,  87]],\n",
       " \n",
       "         ...,\n",
       " \n",
       "         [[ 44,  93, 124, ..., 140, 138, 101],\n",
       "          [118,  97, 140, ..., 153, 121,  70],\n",
       "          [ 69, 126, 157, ..., 162, 105,  50]],\n",
       " \n",
       "         [[ 44,  96, 122, ..., 142, 127, 101],\n",
       "          [117, 100, 139, ..., 155, 109,  70],\n",
       "          [ 71, 128, 157, ..., 164,  93,  50]],\n",
       " \n",
       "         [[ 41, 104, 121, ..., 144, 117, 101],\n",
       "          [114, 109, 138, ..., 157,  98,  70],\n",
       "          [ 69, 136, 158, ..., 165,  83,  50]]],\n",
       " \n",
       " \n",
       "        [[[ 50, 138, 147, ..., 117,  98, 104],\n",
       "          [117, 152, 165, ..., 122,  67,  83],\n",
       "          [ 76, 165, 179, ..., 137,  46,  71]],\n",
       " \n",
       "         [[ 51, 130, 147, ..., 117,  99, 105],\n",
       "          [118, 144, 164, ..., 122,  70,  84],\n",
       "          [ 77, 157, 179, ..., 137,  48,  73]],\n",
       " \n",
       "         [[ 49, 121, 147, ..., 118, 100, 105],\n",
       "          [116, 136, 164, ..., 123,  73,  84],\n",
       "          [ 75, 148, 179, ..., 137,  51,  74]],\n",
       " \n",
       "         ...,\n",
       " \n",
       "         [[ 44,  93, 139, ..., 141, 126, 101],\n",
       "          [117,  99, 155, ..., 154, 108,  70],\n",
       "          [ 71, 128, 170, ..., 163,  92,  49]],\n",
       " \n",
       "         [[ 45, 101, 139, ..., 143, 118, 102],\n",
       "          [116, 107, 155, ..., 156,  99,  71],\n",
       "          [ 72, 134, 170, ..., 164,  83,  50]],\n",
       " \n",
       "         [[ 42, 112, 138, ..., 144, 110, 102],\n",
       "          [113, 118, 155, ..., 157,  91,  71],\n",
       "          [ 69, 144, 171, ..., 165,  75,  50]]],\n",
       " \n",
       " \n",
       "        [[[ 48, 131, 159, ..., 132,  97,  95],\n",
       "          [115, 145, 177, ..., 138,  66,  73],\n",
       "          [ 74, 158, 189, ..., 152,  45,  62]],\n",
       " \n",
       "         [[ 48, 122, 159, ..., 133,  99,  96],\n",
       "          [115, 136, 177, ..., 140,  69,  74],\n",
       "          [ 74, 149, 190, ..., 152,  48,  63]],\n",
       " \n",
       "         [[ 46, 111, 159, ..., 135, 100,  97],\n",
       "          [113, 126, 177, ..., 142,  72,  75],\n",
       "          [ 72, 139, 191, ..., 153,  51,  64]],\n",
       " \n",
       "         ...,\n",
       " \n",
       "         [[ 43, 101, 152, ..., 142, 118, 101],\n",
       "          [116, 108, 168, ..., 155,  99,  70],\n",
       "          [ 71, 135, 181, ..., 164,  82,  49]],\n",
       " \n",
       "         [[ 44, 111, 152, ..., 143, 111, 102],\n",
       "          [115, 118, 168, ..., 156,  92,  71],\n",
       "          [ 71, 144, 182, ..., 165,  74,  50]],\n",
       " \n",
       "         [[ 42, 123, 152, ..., 144, 104, 102],\n",
       "          [113, 130, 168, ..., 157,  85,  71],\n",
       "          [ 71, 156, 183, ..., 165,  68,  50]]]], dtype=uint8),\n",
       " 'y': array([[5],\n",
       "        [2],\n",
       "        [1],\n",
       "        ...,\n",
       "        [7],\n",
       "        [6],\n",
       "        [7]], dtype=uint8)}"
      ]
     },
     "execution_count": 118,
     "metadata": {},
     "output_type": "execute_result"
    }
   ],
   "source": [
    "mat_file"
   ]
  },
  {
   "cell_type": "code",
   "execution_count": 119,
   "metadata": {},
   "outputs": [],
   "source": [
    "x = mat_file['X']\n",
    "y = mat_file['y']"
   ]
  },
  {
   "cell_type": "code",
   "execution_count": 120,
   "metadata": {},
   "outputs": [
    {
     "data": {
      "text/plain": [
       "numpy.ndarray"
      ]
     },
     "execution_count": 120,
     "metadata": {},
     "output_type": "execute_result"
    }
   ],
   "source": [
    "type(x)"
   ]
  },
  {
   "cell_type": "code",
   "execution_count": 121,
   "metadata": {},
   "outputs": [
    {
     "data": {
      "text/plain": [
       "((32, 32, 3, 26032),\n",
       " (26032, 1),\n",
       " array([ 1,  2,  3,  4,  5,  6,  7,  8,  9, 10], dtype=uint8))"
      ]
     },
     "execution_count": 121,
     "metadata": {},
     "output_type": "execute_result"
    }
   ],
   "source": [
    "np.shape(x), np.shape(y), np.unique(y)"
   ]
  },
  {
   "cell_type": "code",
   "execution_count": 122,
   "metadata": {},
   "outputs": [
    {
     "name": "stdout",
     "output_type": "stream",
     "text": [
      "[0 1 2 3 4 5 6 7 8 9]\n"
     ]
    }
   ],
   "source": [
    "y[y == 10] = 0\n",
    "print(np.unique(y))"
   ]
  },
  {
   "cell_type": "markdown",
   "metadata": {},
   "source": [
    "x.shape을 보니 WHCN형태\n",
    "(width, height, channel, n) -> (n, weight, height, channel)"
   ]
  },
  {
   "cell_type": "code",
   "execution_count": 123,
   "metadata": {},
   "outputs": [
    {
     "data": {
      "text/plain": [
       "((26032, 32, 32, 3), (26032,))"
      ]
     },
     "execution_count": 123,
     "metadata": {},
     "output_type": "execute_result"
    }
   ],
   "source": [
    "_x = x.transpose((3,0,1,2)) # 3번째를 0번으로 0번째를 1번으로...\n",
    "# _x = np.reshape(x, [-1, 32, 32, 3])\n",
    "_y =y[:,0]\n",
    "# _y = np.reshape(y, [1, -1])\n",
    "_x.shape, _y.shape"
   ]
  },
  {
   "cell_type": "code",
   "execution_count": 125,
   "metadata": {},
   "outputs": [
    {
     "data": {
      "text/plain": [
       "False"
      ]
     },
     "execution_count": 125,
     "metadata": {},
     "output_type": "execute_result"
    }
   ],
   "source": [
    "np.any(np.isnan(_x))"
   ]
  },
  {
   "cell_type": "code",
   "execution_count": 22,
   "metadata": {},
   "outputs": [],
   "source": [
    "def plot_images(img, labels, nrows, ncols):\n",
    "    '''\n",
    "    nrows x ncols의 크기(형태)의 그래프 이미지\n",
    "    '''\n",
    "    fig, axes = plt.subplots(nrows, ncols)\n",
    "    for i, ax in enumerate(axes.flat):\n",
    "        if img[i].shape == (32, 32, 3): # 컬러\n",
    "            ax.imshow(img[i])\n",
    "        else:\n",
    "            ax.imshow(img[i, :, :, 0]) # 흑백\n",
    "        ax.set_xticks([]); ax.set_yticks([])\n",
    "        ax.set_title(labels[i])"
   ]
  },
  {
   "cell_type": "code",
   "execution_count": 23,
   "metadata": {},
   "outputs": [
    {
     "data": {
      "image/png": "[encoded data removed]",
      "text/plain": [
       "<Figure size 432x288 with 16 Axes>"
      ]
     },
     "metadata": {},
     "output_type": "display_data"
    }
   ],
   "source": [
    "plot_images(_x, _y, 2, 8)"
   ]
  },
  {
   "cell_type": "code",
   "execution_count": 102,
   "metadata": {},
   "outputs": [
    {
     "data": {
      "text/plain": [
       "((50, 32, 32, 3), (50,), {1, 2, 3, 4, 5, 6, 7, 8, 9, 10})"
      ]
     },
     "execution_count": 102,
     "metadata": {},
     "output_type": "execute_result"
    }
   ],
   "source": [
    "_x[:50].shape, _y[:50].shape, set(_y)"
   ]
  },
  {
   "cell_type": "code",
   "execution_count": 103,
   "metadata": {},
   "outputs": [
    {
     "data": {
      "text/plain": [
       "{0, 1, 2, 3, 4, 5, 6, 7, 8, 9}"
      ]
     },
     "execution_count": 103,
     "metadata": {},
     "output_type": "execute_result"
    }
   ],
   "source": [
    "_y[_y == 10] = 0\n",
    "set(_y)"
   ]
  },
  {
   "cell_type": "code",
   "execution_count": 29,
   "metadata": {},
   "outputs": [],
   "source": [
    "np.save('x', _x[:50])\n",
    "np.save('y', _y[:50])"
   ]
  },
  {
   "cell_type": "code",
   "execution_count": 59,
   "metadata": {},
   "outputs": [
    {
     "data": {
      "text/plain": [
       "((50, 32, 32, 3), (50,), {1, 2, 3, 4, 5, 6, 8, 9, 10})"
      ]
     },
     "execution_count": 59,
     "metadata": {},
     "output_type": "execute_result"
    }
   ],
   "source": [
    "X_train = np.load('x.npy')\n",
    "Y_train = np.load('y.npy')\n",
    "X_train.shape, Y_train.shape, set(Y_train)"
   ]
  },
  {
   "cell_type": "code",
   "execution_count": 89,
   "metadata": {},
   "outputs": [
    {
     "name": "stdout",
     "output_type": "stream",
     "text": [
      "[0 1 2 3 4 5 6 8 9]\n"
     ]
    }
   ],
   "source": [
    "Y_train[Y_train == 10] = 0\n",
    "print(np.unique(Y_train))"
   ]
  },
  {
   "cell_type": "markdown",
   "metadata": {},
   "source": [
    "## Grayscale"
   ]
  },
  {
   "cell_type": "code",
   "execution_count": 53,
   "metadata": {},
   "outputs": [],
   "source": [
    "def rgb2gray(images):\n",
    "    return np.expand_dims(np.dot(images, [0.2990, 0.5870, 0.1140]), axis=3)"
   ]
  },
  {
   "cell_type": "code",
   "execution_count": 54,
   "metadata": {},
   "outputs": [
    {
     "data": {
      "text/plain": [
       "(50, 32, 32, 1)"
      ]
     },
     "execution_count": 54,
     "metadata": {},
     "output_type": "execute_result"
    }
   ],
   "source": [
    "X_gray = rgb2gray(X_train).astype(np.float32)\n",
    "X_gray.shape"
   ]
  },
  {
   "cell_type": "code",
   "execution_count": 55,
   "metadata": {},
   "outputs": [
    {
     "data": {
      "image/png": "[encoded data removed]",
      "text/plain": [
       "<Figure size 432x288 with 16 Axes>"
      ]
     },
     "metadata": {},
     "output_type": "display_data"
    }
   ],
   "source": [
    "plot_images(X_gray, Y_train, 2, 8)"
   ]
  },
  {
   "cell_type": "code",
   "execution_count": 104,
   "metadata": {},
   "outputs": [
    {
     "data": {
      "text/plain": [
       "(26032, 32, 32, 1)"
      ]
     },
     "execution_count": 104,
     "metadata": {},
     "output_type": "execute_result"
    }
   ],
   "source": [
    "_x = rgb2gray(_x).astype(np.float32)\n",
    "_x.shape"
   ]
  },
  {
   "cell_type": "markdown",
   "metadata": {},
   "source": [
    "## Model"
   ]
  },
  {
   "cell_type": "code",
   "execution_count": 171,
   "metadata": {},
   "outputs": [],
   "source": [
    "# CNN Model\n",
    "class CNNModel(keras.Model):\n",
    "    \n",
    "    def __init__(self):    \n",
    "        super(CNNModel, self).__init__()\n",
    "        self.opt = tf.optimizers.Nadam(learning_rate=0.0001)#Stochatic Gradient Descent 확률적 경사 하강\n",
    "        self.conv0 = keras.layers.Conv2D(96, [11,11], strides=(4,4), padding='same', activation=keras.activations.relu)\n",
    "        self.conv1 = keras.layers.Conv2D(128, [5,5], padding='same', activation=keras.activations.relu)\n",
    "        self.conv2 = keras.layers.Conv2D(256, [3,3], padding='same', activation=keras.activations.relu)\n",
    "        self.conv3 = keras.layers.Conv2D(256, [3,3], padding='same', activation=keras.activations.relu)\n",
    "        self.conv4 = keras.layers.Conv2D(128, [3,3], padding='same', activation=keras.activations.relu)\n",
    "        self.pool0 = keras.layers.MaxPool2D([3,3], strides=(2,2))\n",
    "        self.pool1 = keras.layers.MaxPool2D([3,3], strides=(2,2))\n",
    "        self.flatten = keras.layers.Flatten()\n",
    "        self.dense0 = keras.layers.Dense(64, activation=keras.activations.relu)\n",
    "        self.dense = keras.layers.Dense(units=10, activation=keras.activations.softmax)\n",
    "  \n",
    "    def call(self, x):\n",
    "        x = tf.cast(x, tf.float32)\n",
    "        net = self.conv0(x)\n",
    "        net = self.pool0(net)\n",
    "        net = self.conv1(net)\n",
    "        net = self.pool1(net)\n",
    "        net = self.conv2(net)\n",
    "        net = self.conv3(net)\n",
    "        net = self.conv4(net)\n",
    "        net = self.flatten(net)\n",
    "        net = self.dense0(net)\n",
    "        h = self.dense(net)\n",
    "        return h\n",
    "    \n",
    "    def get_loss(self, y, h):\n",
    "        #학습할때 nan이 발생하는 경우 값을 clip(자르다) (최소값, 최대값) \n",
    "        h = tf.clip_by_value(h, 1e-8, 1 - 1e-8)# h 가 0이나 1이 되지 않도록 하는 안전장치 \n",
    "        cross_entropy = - (y * tf.math.log(h) + (1 - y) * tf.math.log(1 - h)) \n",
    "        loss = tf.reduce_mean(cross_entropy)\n",
    "        return loss\n",
    "\n",
    "    def get_accuracy(self, y, h):    \n",
    "        predict = tf.argmax(h, -1)\n",
    "        is_equal = tf.equal(y, predict)\n",
    "        self.acc = tf.reduce_mean(tf.cast(is_equal, tf.float32)) # True > 1, False > 0 로 cast\n",
    "\n",
    "    def fit(self, x, y, epoch=1):\n",
    "        # x : (m, 32, 32), y: (m, 2)    \n",
    "        y_hot = tf.one_hot(y, depth=10, axis=-1)#(m, 2, 10)\n",
    "        for i in range(epoch):\n",
    "            with tf.GradientTape() as tape: #경사 기록 장치\n",
    "                h = self.call(x)\n",
    "                loss = self.get_loss(y_hot, h)        \n",
    "            grads = tape.gradient(loss, self.trainable_variables) #경사 계산\n",
    "            self.opt.apply_gradients(zip(grads, self.trainable_variables)) # 가중치에서 경사를 빼기\n",
    "            self.get_accuracy(y, h)\n",
    "            if i%10==0:\n",
    "                print('%d/%d loss:%.3f acc:%.3f'%(i, epoch, loss, self.acc))\n",
    "cnnmodel = CNNModel()"
   ]
  },
  {
   "cell_type": "code",
   "execution_count": 149,
   "metadata": {},
   "outputs": [],
   "source": [
    "m = len(_x) // 2\n",
    "x_train, x_test = _x[:m], _x[m:m*2]\n",
    "y_train, y_test = _y[:m], _y[m:m*2]"
   ]
  },
  {
   "cell_type": "code",
   "execution_count": 168,
   "metadata": {
    "scrolled": true
   },
   "outputs": [
    {
     "name": "stdout",
     "output_type": "stream",
     "text": [
      "0/10 loss:0.325 acc:0.097\n"
     ]
    }
   ],
   "source": [
    "cnnmodel.fit(x_train, y_train, epoch=10)"
   ]
  },
  {
   "cell_type": "code",
   "execution_count": null,
   "metadata": {},
   "outputs": [],
   "source": [
    "# 테스트셋의 성능\n",
    "h = cnnmodel(x_test)\n",
    "cnnmodel.get_accuracy(y_test, h)\n",
    "print('개별정확도',cnnmodel.acc.numpy())"
   ]
  },
  {
   "cell_type": "code",
   "execution_count": 128,
   "metadata": {},
   "outputs": [],
   "source": [
    "model = keras.Sequential()\n",
    "model.add(keras.layers.Input((32,32,3)))\n",
    "model.add(keras.layers.Conv2D(32, kernel_size=(3,3), padding='same'))\n",
    "model.add(keras.layers.MaxPool2D((2,2), padding='same'))\n",
    "model.add(keras.layers.Conv2D(32, kernel_size=(3,3), padding='same'))\n",
    "model.add(keras.layers.MaxPool2D((2,2), padding='same'))\n",
    "model.add(keras.layers.Flatten())\n",
    "model.add(keras.layers.Dense(10, activation=keras.layers.Softmax()))\n",
    "model.compile(loss=keras.losses.SparseCategoricalCrossentropy(), metrics=['accuracy'])"
   ]
  },
  {
   "cell_type": "code",
   "execution_count": 129,
   "metadata": {},
   "outputs": [
    {
     "name": "stdout",
     "output_type": "stream",
     "text": [
      "Train on 26032 samples\n",
      "Epoch 1/10\n",
      "26032/26032 [==============================] - 12s 449us/sample - loss: 7.5259 - accuracy: 0.4262\n",
      "Epoch 2/10\n",
      "26032/26032 [==============================] - 9s 334us/sample - loss: 1.3512 - accuracy: 0.6705\n",
      "Epoch 3/10\n",
      "26032/26032 [==============================] - 9s 334us/sample - loss: 1.1029 - accuracy: 0.7165\n",
      "Epoch 4/10\n",
      "26032/26032 [==============================] - 9s 336us/sample - loss: 1.0038 - accuracy: 0.7420\n",
      "Epoch 5/10\n",
      "26032/26032 [==============================] - 9s 343us/sample - loss: 0.9392 - accuracy: 0.7530\n",
      "Epoch 6/10\n",
      "26032/26032 [==============================] - 9s 357us/sample - loss: 0.9161 - accuracy: 0.7640\n",
      "Epoch 7/10\n",
      "26032/26032 [==============================] - 9s 357us/sample - loss: 0.8724 - accuracy: 0.7741\n",
      "Epoch 8/10\n",
      "26032/26032 [==============================] - 9s 357us/sample - loss: 0.8533 - accuracy: 0.7794\n",
      "Epoch 9/10\n",
      "26032/26032 [==============================] - 9s 358us/sample - loss: 0.8324 - accuracy: 0.7812\n",
      "Epoch 10/10\n",
      "26032/26032 [==============================] - 9s 359us/sample - loss: 0.8161 - accuracy: 0.7876\n"
     ]
    },
    {
     "data": {
      "text/plain": [
       "<tensorflow.python.keras.callbacks.History at 0x22762ed8408>"
      ]
     },
     "execution_count": 129,
     "metadata": {},
     "output_type": "execute_result"
    }
   ],
   "source": [
    "model.fit(_x,_y, epochs=10)"
   ]
  }
 ],
 "metadata": {
  "kernelspec": {
   "display_name": "Python 3",
   "language": "python",
   "name": "python3"
  },
  "language_info": {
   "codemirror_mode": {
    "name": "ipython",
    "version": 3
   },
   "file_extension": ".py",
   "mimetype": "text/x-python",
   "name": "python",
   "nbconvert_exporter": "python",
   "pygments_lexer": "ipython3",
   "version": "3.7.4"
  }
 },
 "nbformat": 4,
 "nbformat_minor": 4
}
