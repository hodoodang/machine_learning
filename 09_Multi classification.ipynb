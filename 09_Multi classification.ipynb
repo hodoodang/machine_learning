{
 "cells": [
  {
   "cell_type": "markdown",
   "metadata": {},
   "source": [
    "# multi-class 클래스가 2개보다 많을 때\n",
    "클래스 2개 초과인 경우\n",
    "- 이진 분류(클래스가 2개일 때)에서는 타겟(찾고 싶은 y)만 찾으려고 했다.\n",
    "- x feed, > model(x) = x의 클래스가 1일 확률, x가 클래스 0일 확률 = 1-p(x,y=1)\n",
    "- 클래스 k = 3개다.\n",
    "- model(x) = x가 클래스 0일 확률, x가 클래스 1일 확률, x가 클래스 2일 확률"
   ]
  },
  {
   "cell_type": "code",
   "execution_count": 1,
   "metadata": {
    "collapsed": true
   },
   "outputs": [],
   "source": [
    "import numpy as np"
   ]
  },
  {
   "cell_type": "code",
   "execution_count": 2,
   "metadata": {
    "collapsed": true
   },
   "outputs": [],
   "source": [
    "def sigmoid(x):\n",
    "    return 1 / (1+np.exp(-x))"
   ]
  },
  {
   "cell_type": "code",
   "execution_count": 3,
   "metadata": {},
   "outputs": [
    {
     "data": {
      "text/plain": [
       "(1.0, 2.7182818284590451, 7.3890560989306504)"
      ]
     },
     "execution_count": 3,
     "metadata": {},
     "output_type": "execute_result"
    }
   ],
   "source": [
    "np.exp(0), np.exp(1), np.exp(2) # exponencial 지수 함수"
   ]
  },
  {
   "cell_type": "code",
   "execution_count": 4,
   "metadata": {},
   "outputs": [
    {
     "data": {
      "text/plain": [
       "(0.36787944117144233, 0.1353352832366127, 0.049787068367863944)"
      ]
     },
     "execution_count": 4,
     "metadata": {},
     "output_type": "execute_result"
    }
   ],
   "source": [
    "np.exp(-1), np.exp(-2), np.exp(-3)"
   ]
  },
  {
   "cell_type": "code",
   "execution_count": 6,
   "metadata": {},
   "outputs": [
    {
     "data": {
      "text/plain": [
       "array([ 0.000045,  0.999955])"
      ]
     },
     "execution_count": 6,
     "metadata": {},
     "output_type": "execute_result"
    }
   ],
   "source": [
    "np.set_printoptions(6, suppress=True)\n",
    "y = [0, 1]\n",
    "# h = WX + b\n",
    "# y = sigmoid(h)\n",
    "h = np.array([-10, 10])\n",
    "sigmoid(h)"
   ]
  },
  {
   "cell_type": "code",
   "execution_count": 7,
   "metadata": {},
   "outputs": [
    {
     "data": {
      "text/plain": [
       "array([[ 0.645161,  0.322581,  0.032258]])"
      ]
     },
     "execution_count": 7,
     "metadata": {},
     "output_type": "execute_result"
    }
   ],
   "source": [
    "# 클래스 3개가 존재할 때 한 샘플에 대해서 다음과 같은 예측이 나왔습니다\n",
    "h = np.array([[2.0, 1.0, 0.1]]) # 한 샘플에 대한 예측값을 확률로 바꾸자\n",
    "norm = h / np.sum(h)\n",
    "norm"
   ]
  },
  {
   "cell_type": "code",
   "execution_count": 8,
   "metadata": {},
   "outputs": [
    {
     "data": {
      "text/plain": [
       "(array([[ 2. ,  1. ,  0.1]]), array([[ 7.389056,  2.718282,  1.105171]]))"
      ]
     },
     "execution_count": 8,
     "metadata": {},
     "output_type": "execute_result"
    }
   ],
   "source": [
    "h_e = np.exp(h)\n",
    "h, h_e"
   ]
  },
  {
   "cell_type": "code",
   "execution_count": 9,
   "metadata": {},
   "outputs": [
    {
     "data": {
      "text/plain": [
       "array([[ 0.659001,  0.242433,  0.098566]])"
      ]
     },
     "execution_count": 9,
     "metadata": {},
     "output_type": "execute_result"
    }
   ],
   "source": [
    "softmax = h_e/np.sum(h_e)\n",
    "softmax"
   ]
  },
  {
   "cell_type": "markdown",
   "metadata": {},
   "source": [
    "붓꽃 데이터 전부를 학습시켜 봅시다"
   ]
  },
  {
   "cell_type": "code",
   "execution_count": 6,
   "metadata": {
    "collapsed": true
   },
   "outputs": [],
   "source": [
    "from sklearn.neural_network import MLPClassifier\n",
    "from sklearn.linear_model import LogisticRegression\n",
    "from sklearn.datasets import load_iris"
   ]
  },
  {
   "cell_type": "code",
   "execution_count": 12,
   "metadata": {},
   "outputs": [
    {
     "data": {
      "text/plain": [
       "((150, 4), (150,), {0, 1, 2})"
      ]
     },
     "execution_count": 12,
     "metadata": {},
     "output_type": "execute_result"
    }
   ],
   "source": [
    "x, y = load_iris(True)\n",
    "x.shape, y.shape, set(y)"
   ]
  },
  {
   "cell_type": "code",
   "execution_count": 13,
   "metadata": {
    "collapsed": true
   },
   "outputs": [],
   "source": [
    "x_norm = (x - np.min(x, axis=0)) / (np.max(x, axis=0) - np.min(x, axis=0))"
   ]
  },
  {
   "cell_type": "code",
   "execution_count": 31,
   "metadata": {},
   "outputs": [
    {
     "name": "stderr",
     "output_type": "stream",
     "text": [
      "C:\\ProgramData\\Anaconda3\\lib\\site-packages\\sklearn\\neural_network\\multilayer_perceptron.py:564: ConvergenceWarning: Stochastic Optimizer: Maximum iterations (690) reached and the optimization hasn't converged yet.\n",
      "  % self.max_iter, ConvergenceWarning)\n"
     ]
    },
    {
     "data": {
      "text/plain": [
       "0.97999999999999998"
      ]
     },
     "execution_count": 31,
     "metadata": {},
     "output_type": "execute_result"
    }
   ],
   "source": [
    "model = MLPClassifier(max_iter=690).fit(x_norm, y)\n",
    "model.score(x_norm, y) # accuracy"
   ]
  },
  {
   "cell_type": "code",
   "execution_count": 40,
   "metadata": {},
   "outputs": [
    {
     "data": {
      "text/plain": [
       "0.95999999999999996"
      ]
     },
     "execution_count": 40,
     "metadata": {},
     "output_type": "execute_result"
    }
   ],
   "source": [
    "model = LogisticRegression(max_iter=690).fit(x, y)\n",
    "model.score(x, y)"
   ]
  },
  {
   "cell_type": "code",
   "execution_count": 46,
   "metadata": {},
   "outputs": [
    {
     "data": {
      "text/plain": [
       "(array([[ 0.414988,  1.461297, -2.262141, -1.029095],\n",
       "        [ 0.41664 , -1.600833,  0.577658, -1.385538],\n",
       "        [-1.707525, -1.534268,  2.470972,  2.555382]]),\n",
       " array([ 0.265606,  1.085424, -1.214715]))"
      ]
     },
     "execution_count": 46,
     "metadata": {},
     "output_type": "execute_result"
    }
   ],
   "source": [
    "model.coef_, model.intercept_"
   ]
  },
  {
   "cell_type": "code",
   "execution_count": 44,
   "metadata": {},
   "outputs": [
    {
     "data": {
      "text/plain": [
       "(array([ 5.1,  3.5,  1.4,  0.2]), 0)"
      ]
     },
     "execution_count": 44,
     "metadata": {},
     "output_type": "execute_result"
    }
   ],
   "source": [
    "x0 = x[0]\n",
    "y0 = y[0]\n",
    "x0, y0"
   ]
  },
  {
   "cell_type": "code",
   "execution_count": 48,
   "metadata": {},
   "outputs": [
    {
     "data": {
      "text/plain": [
       "array([  4.123771,  -1.861017, -11.322595])"
      ]
     },
     "execution_count": 48,
     "metadata": {},
     "output_type": "execute_result"
    }
   ],
   "source": [
    "# y = WX + b\n",
    "h = np.sum(model.coef_ * x0, axis=1) + model.intercept_\n",
    "h"
   ]
  },
  {
   "cell_type": "code",
   "execution_count": 50,
   "metadata": {},
   "outputs": [
    {
     "data": {
      "text/plain": [
       "array([ 0.997489,  0.00251 ,  0.      ])"
      ]
     },
     "execution_count": 50,
     "metadata": {},
     "output_type": "execute_result"
    }
   ],
   "source": [
    "# 보기 불편하니까 확률로 바꿔보자\n",
    "h_e = np.exp(h)\n",
    "h_e / np.sum(h_e)"
   ]
  },
  {
   "cell_type": "code",
   "execution_count": 2,
   "metadata": {
    "collapsed": true
   },
   "outputs": [],
   "source": [
    "from sklearn.datasets import load_digits"
   ]
  },
  {
   "cell_type": "code",
   "execution_count": 3,
   "metadata": {},
   "outputs": [
    {
     "data": {
      "text/plain": [
       "((1797, 64), (1797,))"
      ]
     },
     "execution_count": 3,
     "metadata": {},
     "output_type": "execute_result"
    }
   ],
   "source": [
    "x, y = load_digits(return_X_y=True)\n",
    "x.shape, y.shape"
   ]
  },
  {
   "cell_type": "markdown",
   "metadata": {},
   "source": [
    "학습용:테스트용 50:50으로 나눠서 학습용으로만 학습, 테스트셋 성능을 측정해보세요"
   ]
  },
  {
   "cell_type": "code",
   "execution_count": 69,
   "metadata": {},
   "outputs": [
    {
     "data": {
      "text/plain": [
       "898"
      ]
     },
     "execution_count": 69,
     "metadata": {},
     "output_type": "execute_result"
    }
   ],
   "source": [
    "index = len(x) // 2\n",
    "train_x, test_x = x[:index], x[index:]\n",
    "train_y, test_y = y[:index], y[index:]\n",
    "index"
   ]
  },
  {
   "cell_type": "code",
   "execution_count": 53,
   "metadata": {},
   "outputs": [
    {
     "data": {
      "text/plain": [
       "(1.0, 0.95105672969966626)"
      ]
     },
     "execution_count": 53,
     "metadata": {},
     "output_type": "execute_result"
    }
   ],
   "source": [
    "# 히든 레이어를 디자인할 수 있습니다.\n",
    "model = MLPClassifier(hidden_layer_sizes=(280,280,128), max_iter=1000 ,random_state=2020)\n",
    "model.fit(train_x, train_y)\n",
    "model.score(train_x, train_y), model.score(test_x, test_y)"
   ]
  },
  {
   "cell_type": "code",
   "execution_count": 6,
   "metadata": {},
   "outputs": [
    {
     "data": {
      "text/plain": [
       "(array([  0.,   0.,   5.,  13.,   9.,   1.,   0.,   0.,   0.,   0.,  13.,\n",
       "         15.,  10.,  15.,   5.,   0.,   0.,   3.,  15.,   2.,   0.,  11.,\n",
       "          8.,   0.,   0.,   4.,  12.,   0.,   0.,   8.,   8.,   0.,   0.,\n",
       "          5.,   8.,   0.,   0.,   9.,   8.,   0.,   0.,   4.,  11.,   0.,\n",
       "          1.,  12.,   7.,   0.,   0.,   2.,  14.,   5.,  10.,  12.,   0.,\n",
       "          0.,   0.,   0.,   6.,  13.,  10.,   0.,   0.,   0.]), 0)"
      ]
     },
     "execution_count": 6,
     "metadata": {},
     "output_type": "execute_result"
    }
   ],
   "source": [
    "x0 = x[0]\n",
    "x0, y[0]"
   ]
  },
  {
   "cell_type": "code",
   "execution_count": 62,
   "metadata": {},
   "outputs": [
    {
     "data": {
      "text/plain": [
       "<matplotlib.image.AxesImage at 0x7d294477f0>"
      ]
     },
     "execution_count": 62,
     "metadata": {},
     "output_type": "execute_result"
    },
    {
     "data": {
      "image/png": "[encoded data removed]",
      "text/plain": [
       "<matplotlib.figure.Figure at 0x7d26fd6ef0>"
      ]
     },
     "metadata": {},
     "output_type": "display_data"
    }
   ],
   "source": [
    "import matplotlib.pyplot as plt\n",
    "%matplotlib inline\n",
    "plt.imshow(x[0].reshape((8,8)), cmap='gray')"
   ]
  },
  {
   "cell_type": "code",
   "execution_count": 54,
   "metadata": {},
   "outputs": [
    {
     "data": {
      "text/plain": [
       "((8, 8), (8, 8), (8, 16))"
      ]
     },
     "execution_count": 54,
     "metadata": {},
     "output_type": "execute_result"
    }
   ],
   "source": [
    "x0 = x[0].reshape((8,8))\n",
    "x1 = x[1].reshape((8,8))\n",
    "x2 = np.concatenate((x0, x1), axis=1)\n",
    "x0.shape, x1.shape, x2.shape"
   ]
  },
  {
   "cell_type": "code",
   "execution_count": 89,
   "metadata": {},
   "outputs": [],
   "source": [
    "# 데이터 2개 준비\n",
    "x0 = np.concatenate((x[0].reshape((8,8)), x[1].reshape((8,8))), axis=1)\n",
    "x1 = np.concatenate((x[2].reshape((8,8)), x[3].reshape((8,8))), axis=1)\n",
    "y0 = y[:2]\n",
    "y1 = y[2:4]"
   ]
  },
  {
   "cell_type": "code",
   "execution_count": 83,
   "metadata": {},
   "outputs": [
    {
     "data": {
      "text/plain": [
       "((2, 128), (2, 2))"
      ]
     },
     "execution_count": 83,
     "metadata": {},
     "output_type": "execute_result"
    }
   ],
   "source": [
    "x0 = np.reshape(x0, [-1])\n",
    "x1 = np.reshape(x1, [-1])\n",
    "x_train = np.stack((x0, x1), 0)\n",
    "y_train = np.stack((y0, y1), 0)\n",
    "x_train.shape, y_train.shape"
   ]
  },
  {
   "cell_type": "code",
   "execution_count": 90,
   "metadata": {},
   "outputs": [
    {
     "data": {
      "text/plain": [
       "(array([[  0.,   0.,   5.,  13.,   9.,   1.,   0.,   0.,   0.,   0.,   0.,\n",
       "          12.,  13.,   5.,   0.,   0.],\n",
       "        [  0.,   0.,  13.,  15.,  10.,  15.,   5.,   0.,   0.,   0.,   0.,\n",
       "          11.,  16.,   9.,   0.,   0.],\n",
       "        [  0.,   3.,  15.,   2.,   0.,  11.,   8.,   0.,   0.,   0.,   3.,\n",
       "          15.,  16.,   6.,   0.,   0.],\n",
       "        [  0.,   4.,  12.,   0.,   0.,   8.,   8.,   0.,   0.,   7.,  15.,\n",
       "          16.,  16.,   2.,   0.,   0.],\n",
       "        [  0.,   5.,   8.,   0.,   0.,   9.,   8.,   0.,   0.,   0.,   1.,\n",
       "          16.,  16.,   3.,   0.,   0.],\n",
       "        [  0.,   4.,  11.,   0.,   1.,  12.,   7.,   0.,   0.,   0.,   1.,\n",
       "          16.,  16.,   6.,   0.,   0.],\n",
       "        [  0.,   2.,  14.,   5.,  10.,  12.,   0.,   0.,   0.,   0.,   1.,\n",
       "          16.,  16.,   6.,   0.,   0.],\n",
       "        [  0.,   0.,   6.,  13.,  10.,   0.,   0.,   0.,   0.,   0.,   0.,\n",
       "          11.,  16.,  10.,   0.,   0.]]),\n",
       " array([  0.,   0.,   5.,  13.,   9.,   1.,   0.,   0.,   0.,   0.,   0.,\n",
       "         12.,  13.,   5.,   0.,   0.,   0.,   0.,  13.,  15.,  10.,  15.,\n",
       "          5.,   0.,   0.,   0.,   0.,  11.,  16.,   9.,   0.,   0.,   0.,\n",
       "          3.,  15.,   2.,   0.,  11.,   8.,   0.,   0.,   0.,   3.,  15.,\n",
       "         16.,   6.,   0.,   0.,   0.,   4.,  12.,   0.,   0.,   8.,   8.,\n",
       "          0.,   0.,   7.,  15.,  16.,  16.,   2.,   0.,   0.,   0.,   5.,\n",
       "          8.,   0.,   0.,   9.,   8.,   0.,   0.,   0.,   1.,  16.,  16.,\n",
       "          3.,   0.,   0.,   0.,   4.,  11.,   0.,   1.,  12.,   7.,   0.,\n",
       "          0.,   0.,   1.,  16.,  16.,   6.,   0.,   0.,   0.,   2.,  14.,\n",
       "          5.,  10.,  12.,   0.,   0.,   0.,   0.,   1.,  16.,  16.,   6.,\n",
       "          0.,   0.,   0.,   0.,   6.,  13.,  10.,   0.,   0.,   0.,   0.,\n",
       "          0.,   0.,  11.,  16.,  10.,   0.,   0.]))"
      ]
     },
     "execution_count": 90,
     "metadata": {},
     "output_type": "execute_result"
    }
   ],
   "source": [
    "x0, np.reshape(x0, [-1])"
   ]
  },
  {
   "cell_type": "code",
   "execution_count": 60,
   "metadata": {},
   "outputs": [
    {
     "data": {
      "text/plain": [
       "(array([[0, 1],\n",
       "        [2, 3]]), 1.0)"
      ]
     },
     "execution_count": 60,
     "metadata": {},
     "output_type": "execute_result"
    }
   ],
   "source": [
    "from sklearn.linear_model import LogisticRegression\n",
    "from sklearn.neural_network import MLPClassifier\n",
    "from sklearn.multioutput import MultiOutputClassifier\n",
    "model = MultiOutputClassifier(MLPClassifier()).fit(x_train, y_train)\n",
    "model.predict(x_train), model.score(x_train, y_train)"
   ]
  },
  {
   "cell_type": "code",
   "execution_count": 66,
   "metadata": {},
   "outputs": [
    {
     "data": {
      "text/plain": [
       "<matplotlib.image.AxesImage at 0x7d298e25f8>"
      ]
     },
     "execution_count": 66,
     "metadata": {},
     "output_type": "execute_result"
    },
    {
     "data": {
      "image/png": "[encoded data removed]",
      "text/plain": [
       "<matplotlib.figure.Figure at 0x7d29727f28>"
      ]
     },
     "metadata": {},
     "output_type": "display_data"
    }
   ],
   "source": [
    "plt.imshow(x0.reshape((8,16)), cmap='gray')"
   ]
  },
  {
   "cell_type": "code",
   "execution_count": 76,
   "metadata": {},
   "outputs": [],
   "source": [
    "data = list()\n",
    "data.append(x0.tolist())"
   ]
  },
  {
   "cell_type": "code",
   "execution_count": 77,
   "metadata": {
    "collapsed": true
   },
   "outputs": [],
   "source": [
    "data.append(x1.tolist())"
   ]
  },
  {
   "cell_type": "code",
   "execution_count": 78,
   "metadata": {},
   "outputs": [
    {
     "data": {
      "text/plain": [
       "[[0.0,\n",
       "  0.0,\n",
       "  5.0,\n",
       "  13.0,\n",
       "  9.0,\n",
       "  1.0,\n",
       "  0.0,\n",
       "  0.0,\n",
       "  0.0,\n",
       "  0.0,\n",
       "  0.0,\n",
       "  12.0,\n",
       "  13.0,\n",
       "  5.0,\n",
       "  0.0,\n",
       "  0.0,\n",
       "  0.0,\n",
       "  0.0,\n",
       "  13.0,\n",
       "  15.0,\n",
       "  10.0,\n",
       "  15.0,\n",
       "  5.0,\n",
       "  0.0,\n",
       "  0.0,\n",
       "  0.0,\n",
       "  0.0,\n",
       "  11.0,\n",
       "  16.0,\n",
       "  9.0,\n",
       "  0.0,\n",
       "  0.0,\n",
       "  0.0,\n",
       "  3.0,\n",
       "  15.0,\n",
       "  2.0,\n",
       "  0.0,\n",
       "  11.0,\n",
       "  8.0,\n",
       "  0.0,\n",
       "  0.0,\n",
       "  0.0,\n",
       "  3.0,\n",
       "  15.0,\n",
       "  16.0,\n",
       "  6.0,\n",
       "  0.0,\n",
       "  0.0,\n",
       "  0.0,\n",
       "  4.0,\n",
       "  12.0,\n",
       "  0.0,\n",
       "  0.0,\n",
       "  8.0,\n",
       "  8.0,\n",
       "  0.0,\n",
       "  0.0,\n",
       "  7.0,\n",
       "  15.0,\n",
       "  16.0,\n",
       "  16.0,\n",
       "  2.0,\n",
       "  0.0,\n",
       "  0.0,\n",
       "  0.0,\n",
       "  5.0,\n",
       "  8.0,\n",
       "  0.0,\n",
       "  0.0,\n",
       "  9.0,\n",
       "  8.0,\n",
       "  0.0,\n",
       "  0.0,\n",
       "  0.0,\n",
       "  1.0,\n",
       "  16.0,\n",
       "  16.0,\n",
       "  3.0,\n",
       "  0.0,\n",
       "  0.0,\n",
       "  0.0,\n",
       "  4.0,\n",
       "  11.0,\n",
       "  0.0,\n",
       "  1.0,\n",
       "  12.0,\n",
       "  7.0,\n",
       "  0.0,\n",
       "  0.0,\n",
       "  0.0,\n",
       "  1.0,\n",
       "  16.0,\n",
       "  16.0,\n",
       "  6.0,\n",
       "  0.0,\n",
       "  0.0,\n",
       "  0.0,\n",
       "  2.0,\n",
       "  14.0,\n",
       "  5.0,\n",
       "  10.0,\n",
       "  12.0,\n",
       "  0.0,\n",
       "  0.0,\n",
       "  0.0,\n",
       "  0.0,\n",
       "  1.0,\n",
       "  16.0,\n",
       "  16.0,\n",
       "  6.0,\n",
       "  0.0,\n",
       "  0.0,\n",
       "  0.0,\n",
       "  0.0,\n",
       "  6.0,\n",
       "  13.0,\n",
       "  10.0,\n",
       "  0.0,\n",
       "  0.0,\n",
       "  0.0,\n",
       "  0.0,\n",
       "  0.0,\n",
       "  0.0,\n",
       "  11.0,\n",
       "  16.0,\n",
       "  10.0,\n",
       "  0.0,\n",
       "  0.0],\n",
       " [0.0,\n",
       "  0.0,\n",
       "  0.0,\n",
       "  4.0,\n",
       "  15.0,\n",
       "  12.0,\n",
       "  0.0,\n",
       "  0.0,\n",
       "  0.0,\n",
       "  0.0,\n",
       "  7.0,\n",
       "  15.0,\n",
       "  13.0,\n",
       "  1.0,\n",
       "  0.0,\n",
       "  0.0,\n",
       "  0.0,\n",
       "  0.0,\n",
       "  3.0,\n",
       "  16.0,\n",
       "  15.0,\n",
       "  14.0,\n",
       "  0.0,\n",
       "  0.0,\n",
       "  0.0,\n",
       "  8.0,\n",
       "  13.0,\n",
       "  6.0,\n",
       "  15.0,\n",
       "  4.0,\n",
       "  0.0,\n",
       "  0.0,\n",
       "  0.0,\n",
       "  0.0,\n",
       "  8.0,\n",
       "  13.0,\n",
       "  8.0,\n",
       "  16.0,\n",
       "  0.0,\n",
       "  0.0,\n",
       "  0.0,\n",
       "  2.0,\n",
       "  1.0,\n",
       "  13.0,\n",
       "  13.0,\n",
       "  0.0,\n",
       "  0.0,\n",
       "  0.0,\n",
       "  0.0,\n",
       "  0.0,\n",
       "  1.0,\n",
       "  6.0,\n",
       "  15.0,\n",
       "  11.0,\n",
       "  0.0,\n",
       "  0.0,\n",
       "  0.0,\n",
       "  0.0,\n",
       "  2.0,\n",
       "  15.0,\n",
       "  11.0,\n",
       "  1.0,\n",
       "  0.0,\n",
       "  0.0,\n",
       "  0.0,\n",
       "  1.0,\n",
       "  8.0,\n",
       "  13.0,\n",
       "  15.0,\n",
       "  1.0,\n",
       "  0.0,\n",
       "  0.0,\n",
       "  0.0,\n",
       "  0.0,\n",
       "  0.0,\n",
       "  1.0,\n",
       "  12.0,\n",
       "  12.0,\n",
       "  1.0,\n",
       "  0.0,\n",
       "  0.0,\n",
       "  9.0,\n",
       "  16.0,\n",
       "  16.0,\n",
       "  5.0,\n",
       "  0.0,\n",
       "  0.0,\n",
       "  0.0,\n",
       "  0.0,\n",
       "  0.0,\n",
       "  0.0,\n",
       "  0.0,\n",
       "  1.0,\n",
       "  10.0,\n",
       "  8.0,\n",
       "  0.0,\n",
       "  0.0,\n",
       "  3.0,\n",
       "  13.0,\n",
       "  16.0,\n",
       "  16.0,\n",
       "  11.0,\n",
       "  5.0,\n",
       "  0.0,\n",
       "  0.0,\n",
       "  0.0,\n",
       "  8.0,\n",
       "  4.0,\n",
       "  5.0,\n",
       "  14.0,\n",
       "  9.0,\n",
       "  0.0,\n",
       "  0.0,\n",
       "  0.0,\n",
       "  0.0,\n",
       "  3.0,\n",
       "  11.0,\n",
       "  16.0,\n",
       "  9.0,\n",
       "  0.0,\n",
       "  0.0,\n",
       "  0.0,\n",
       "  7.0,\n",
       "  13.0,\n",
       "  13.0,\n",
       "  9.0,\n",
       "  0.0,\n",
       "  0.0]]"
      ]
     },
     "execution_count": 78,
     "metadata": {},
     "output_type": "execute_result"
    }
   ],
   "source": [
    "data"
   ]
  },
  {
   "cell_type": "code",
   "execution_count": 81,
   "metadata": {},
   "outputs": [],
   "source": [
    "data = np.array(data)"
   ]
  },
  {
   "cell_type": "code",
   "execution_count": 84,
   "metadata": {},
   "outputs": [
    {
     "data": {
      "text/plain": [
       "((2, 128), (2, 128))"
      ]
     },
     "execution_count": 84,
     "metadata": {},
     "output_type": "execute_result"
    }
   ],
   "source": [
    "data.shape, x_train.shape"
   ]
  },
  {
   "cell_type": "code",
   "execution_count": 86,
   "metadata": {},
   "outputs": [
    {
     "data": {
      "text/plain": [
       "(array([0, 1]), array([[0, 1],\n",
       "        [2, 3]]))"
      ]
     },
     "execution_count": 86,
     "metadata": {},
     "output_type": "execute_result"
    }
   ],
   "source": [
    "y0, y_train"
   ]
  },
  {
   "cell_type": "code",
   "execution_count": 87,
   "metadata": {},
   "outputs": [
    {
     "data": {
      "text/plain": [
       "[0, 1]"
      ]
     },
     "execution_count": 87,
     "metadata": {},
     "output_type": "execute_result"
    }
   ],
   "source": [
    "[y[0],y[1]]"
   ]
  },
  {
   "cell_type": "code",
   "execution_count": 88,
   "metadata": {},
   "outputs": [
    {
     "data": {
      "text/plain": [
       "<matplotlib.image.AxesImage at 0x7d29955ef0>"
      ]
     },
     "execution_count": 88,
     "metadata": {},
     "output_type": "execute_result"
    },
    {
     "data": {
      "image/png": "[encoded data removed]",
      "text/plain": [
       "<matplotlib.figure.Figure at 0x7d29946f28>"
      ]
     },
     "metadata": {},
     "output_type": "display_data"
    }
   ],
   "source": [
    "plt.title('Y ' + str(y_train))\n",
    "plt.imshow(x_train.reshape((-1,16)))"
   ]
  }
 ],
 "metadata": {
  "kernelspec": {
   "display_name": "Python 3",
   "language": "python",
   "name": "python3"
  },
  "language_info": {
   "codemirror_mode": {
    "name": "ipython",
    "version": 3
   },
   "file_extension": ".py",
   "mimetype": "text/x-python",
   "name": "python",
   "nbconvert_exporter": "python",
   "pygments_lexer": "ipython3",
   "version": "3.6.3"
  }
 },
 "nbformat": 4,
 "nbformat_minor": 2
}
