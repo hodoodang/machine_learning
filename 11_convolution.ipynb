{
 "cells": [
  {
   "cell_type": "markdown",
   "metadata": {},
   "source": [
    "# Convolution 컨볼루션"
   ]
  },
  {
   "cell_type": "code",
   "execution_count": 16,
   "metadata": {},
   "outputs": [],
   "source": [
    "import numpy as np\n",
    "import pandas as pd\n",
    "\n",
    "import matplotlib.pyplot as plt\n",
    "import tensorflow as tf\n",
    "from tensorflow import keras\n",
    "%matplotlib inline"
   ]
  },
  {
   "cell_type": "code",
   "execution_count": 3,
   "metadata": {},
   "outputs": [
    {
     "data": {
      "text/plain": [
       "array([1, 3, 6, 5, 3])"
      ]
     },
     "execution_count": 3,
     "metadata": {},
     "output_type": "execute_result"
    }
   ],
   "source": [
    "np.convolve([1,2,3], [1,1,1])"
   ]
  },
  {
   "cell_type": "markdown",
   "metadata": {},
   "source": [
    "[1,2,3] -> [0,0,1,2,3,0,0]으로 '0' 2개를 패딩으로 붙인다.  \n",
    "따라서 각 원소의 과정은 다음과 같다."
   ]
  },
  {
   "cell_type": "code",
   "execution_count": 5,
   "metadata": {},
   "outputs": [
    {
     "name": "stdout",
     "output_type": "stream",
     "text": [
      "1\n",
      "3\n",
      "6\n",
      "5\n",
      "3\n"
     ]
    }
   ],
   "source": [
    "print(np.sum(np.array([0,0,1]) * np.array([1,1,1])))\n",
    "print(np.sum(np.array([0,1,2]) * np.array([1,1,1])))\n",
    "\n",
    "print(np.sum(np.array([1,2,3]) * np.array([1,1,1])))\n",
    "\n",
    "print(np.sum(np.array([2,3,0]) * np.array([1,1,1])))\n",
    "print(np.sum(np.array([3,0,0]) * np.array([1,1,1])))"
   ]
  },
  {
   "cell_type": "code",
   "execution_count": 27,
   "metadata": {},
   "outputs": [
    {
     "data": {
      "text/plain": [
       "array([1, 4, 7, 6])"
      ]
     },
     "execution_count": 27,
     "metadata": {},
     "output_type": "execute_result"
    }
   ],
   "source": [
    "np.convolve([1,2,3],[1,2])"
   ]
  },
  {
   "cell_type": "code",
   "execution_count": 31,
   "metadata": {},
   "outputs": [
    {
     "name": "stdout",
     "output_type": "stream",
     "text": [
      "0\n",
      "2\n",
      "5\n",
      "8\n",
      "3\n"
     ]
    }
   ],
   "source": [
    "print(np.sum(np.array([0,0,1]) * np.array([1,2])))\n",
    "print(np.sum(np.array([0,1,2]) * np.array([1,2])))\n",
    "\n",
    "print(np.sum(np.array([1,2,3]) * np.array([1,2])))\n",
    "\n",
    "print(np.sum(np.array([2,3,0]) * np.array([1,2])))\n",
    "print(np.sum(np.array([3,0,0]) * np.array([1,2])))"
   ]
  },
  {
   "cell_type": "markdown",
   "metadata": {},
   "source": [
    "위의 계산 전에도 양쪽에 2개의 패딩을 추가했다.  \n",
    "default는 'full'로 되어 있으며 이것의 출력 형태는 (N+M-1)이다.  \n",
    "즉, ([1,2,3], [1,1,1])의 경우 3 + 3 - 1 = 5의 형태로 출력이 되며, ([1,2,3],[1,2])의 경우 3 + 2 - 1 = 4의 형태로 출력되는 것을 발견할 수 있다."
   ]
  },
  {
   "cell_type": "code",
   "execution_count": 33,
   "metadata": {},
   "outputs": [
    {
     "data": {
      "text/plain": [
       "(array([ 1,  4,  7, 10, 13]), array([ 4,  7, 10, 13]))"
      ]
     },
     "execution_count": 33,
     "metadata": {},
     "output_type": "execute_result"
    }
   ],
   "source": [
    "# 값이 떨어지는 부분을 찾으세요.\n",
    "# full : 기본, CNN에서 사용하지 않음\n",
    "# same : 필요한 경우에만 패딩을 사용하여 src, out의 길이를 같게 만듭니다.\n",
    "# valid : 패딩 사용 안함\n",
    "x = [1,2,3,4,5]\n",
    "same = np.convolve(x, [1,2], 'same')\n",
    "valid = np.convolve(x, [1,2], 'valid')\n",
    "same, valid"
   ]
  },
  {
   "cell_type": "code",
   "execution_count": null,
   "metadata": {},
   "outputs": [],
   "source": [
    "np.convolve([1,2,3,4,5,4,5,6,7,8,7,8,9,10,11,10,11,12], [-1,0,1,0])"
   ]
  },
  {
   "cell_type": "markdown",
   "metadata": {},
   "source": [
    "$y = W*X + b$ "
   ]
  },
  {
   "cell_type": "code",
   "execution_count": 20,
   "metadata": {},
   "outputs": [
    {
     "data": {
      "text/plain": [
       "array([-10, -10, -10, -10,  10, -10, -10, -10, -10,  10, -10, -10, -10,\n",
       "       -10,  10, -10, -10, 120])"
      ]
     },
     "execution_count": 20,
     "metadata": {},
     "output_type": "execute_result"
    }
   ],
   "source": [
    "# 더 정밀한 필터\n",
    "2*np.convolve([1,2,3,4,5,4,5,6,7,8,7,8,9,10,11,10,11,12], [-5, 5, 0], 'same')"
   ]
  },
  {
   "cell_type": "code",
   "execution_count": 21,
   "metadata": {},
   "outputs": [
    {
     "data": {
      "text/plain": [
       "[<matplotlib.lines.Line2D at 0x1afb15dc88>]"
      ]
     },
     "execution_count": 21,
     "metadata": {},
     "output_type": "execute_result"
    },
    {
     "data": {
      "image/png": "[encoded data removed]",
      "text/plain": [
       "<Figure size 432x288 with 1 Axes>"
      ]
     },
     "metadata": {
      "needs_background": "light"
     },
     "output_type": "display_data"
    }
   ],
   "source": [
    "# 봉우리의 x값을 찾으세요(가장 높은 값)\n",
    "src = np.cos(np.arange(-10, 10, 0.1))\n",
    "plt.plot(src)"
   ]
  },
  {
   "cell_type": "code",
   "execution_count": 23,
   "metadata": {},
   "outputs": [
    {
     "data": {
      "text/plain": [
       "<matplotlib.legend.Legend at 0x1af0b7b908>"
      ]
     },
     "execution_count": 23,
     "metadata": {},
     "output_type": "execute_result"
    },
    {
     "data": {
      "image/png": "[encoded data removed]",
      "text/plain": [
       "<Figure size 432x288 with 1 Axes>"
      ]
     },
     "metadata": {
      "needs_background": "light"
     },
     "output_type": "display_data"
    }
   ],
   "source": [
    "x = np.arange(-10, 10, 0.1)\n",
    "src = np.sin(x)\n",
    "# dst = np.convolve(src, [-1,0,1,2,1,0,-1]) # 값이 올라갔다 내려오는 위치\n",
    "dst = np.convolve(src, [3,2,1,0,-1,-2,-3], 'same') # 값이 떨어지는 위치\n",
    "plt.plot(src, label='src')\n",
    "plt.plot(dst, label='dst')\n",
    "plt.legend()"
   ]
  },
  {
   "cell_type": "code",
   "execution_count": 25,
   "metadata": {},
   "outputs": [
    {
     "data": {
      "text/plain": [
       "array([ 2.00577603,  0.88895961, -0.69971057, -2.6633115 , -2.72508957,\n",
       "       -2.75963944, -2.7666159 , -2.74594925, -2.69784599, -2.62278674,\n",
       "       -2.52152147, -2.39506199, -2.24467185, -2.07185369, -1.87833424,\n",
       "       -1.66604711, -1.43711338, -1.19382049, -0.93859934, -0.67400002,\n",
       "       -0.40266631, -0.12730929,  0.14931976,  0.42445686,  0.69535292,\n",
       "        0.95930125,  1.21366455,  1.45590133,  1.68359121,  1.89445921,\n",
       "        2.0863984 ,  2.25749099,  2.40602747,  2.53052372,  2.62973582,\n",
       "        2.70267246,  2.74860489,  2.76707418,  2.75789577,  2.72116138,\n",
       "        2.65723804,  2.56676446,  2.45064462,  2.31003875,  2.14635173,\n",
       "        1.96121908,  1.75649057,  1.53421179,  1.29660368,  1.04604032,\n",
       "        0.78502528,  0.51616653,  0.24215041, -0.0342852 , -0.31037824,\n",
       "       -0.58337008, -0.85053308, -1.10919784, -1.35677986, -1.59080538,\n",
       "       -1.8089361 , -2.00899253, -2.18897577, -2.34708749, -2.48174789,\n",
       "       -2.59161148, -2.67558054, -2.73281609, -2.76274625, -2.76507195,\n",
       "       -2.73976998, -2.68709312, -2.60756772, -2.50198837, -2.37140997,\n",
       "       -2.21713723, -2.04071159, -1.84389583, -1.62865648, -1.39714413,\n",
       "       -1.15167197, -0.89469269, -0.62877394, -0.35657268, -0.08080867,\n",
       "        0.19576276,  0.47037819,  0.74029375,  1.00281255,  1.25531157,\n",
       "        1.49526794,  1.72028408,  1.92811171,  2.11667429,  2.28408775,\n",
       "        2.42867937,  2.54900443,  2.64386068,  2.71230034,  2.7536396 ,\n",
       "        2.7674654 ,  2.7536396 ,  2.71230034,  2.64386068,  2.54900443,\n",
       "        2.42867937,  2.28408775,  2.11667429,  1.92811171,  1.72028408,\n",
       "        1.49526794,  1.25531157,  1.00281255,  0.74029375,  0.47037819,\n",
       "        0.19576276, -0.08080867, -0.35657268, -0.62877394, -0.89469269,\n",
       "       -1.15167197, -1.39714413, -1.62865648, -1.84389583, -2.04071159,\n",
       "       -2.21713723, -2.37140997, -2.50198837, -2.60756772, -2.68709312,\n",
       "       -2.73976998, -2.76507195, -2.76274625, -2.73281609, -2.67558054,\n",
       "       -2.59161148, -2.48174789, -2.34708749, -2.18897577, -2.00899253,\n",
       "       -1.8089361 , -1.59080538, -1.35677986, -1.10919784, -0.85053308,\n",
       "       -0.58337008, -0.31037824, -0.0342852 ,  0.24215041,  0.51616653,\n",
       "        0.78502528,  1.04604032,  1.29660368,  1.53421179,  1.75649057,\n",
       "        1.96121908,  2.14635173,  2.31003875,  2.45064462,  2.56676446,\n",
       "        2.65723804,  2.72116138,  2.75789577,  2.76707418,  2.74860489,\n",
       "        2.70267246,  2.62973582,  2.53052372,  2.40602747,  2.25749099,\n",
       "        2.0863984 ,  1.89445921,  1.68359121,  1.45590133,  1.21366455,\n",
       "        0.95930125,  0.69535292,  0.42445686,  0.14931976, -0.12730929,\n",
       "       -0.40266631, -0.67400002, -0.93859934, -1.19382049, -1.43711338,\n",
       "       -1.66604711, -1.87833424, -2.07185369, -2.24467185, -2.39506199,\n",
       "       -2.52152147, -2.62278674, -2.69784599, -2.74594925, -2.7666159 ,\n",
       "       -2.75963944, -2.72508957, -1.03124817,  0.38833166,  1.43298073])"
      ]
     },
     "execution_count": 25,
     "metadata": {},
     "output_type": "execute_result"
    }
   ],
   "source": [
    "dst"
   ]
  },
  {
   "cell_type": "code",
   "execution_count": 36,
   "metadata": {},
   "outputs": [
    {
     "data": {
      "text/plain": [
       "<tf.Tensor: id=2, shape=(1, 1, 2, 1), dtype=float32, numpy=\n",
       "array([[[[37.],\n",
       "         [47.]]]], dtype=float32)>"
      ]
     },
     "execution_count": 36,
     "metadata": {},
     "output_type": "execute_result"
    }
   ],
   "source": [
    "input = np.array([1,2,3,4,5,6]).reshape((1,2,3,1)).astype(np.float32)\n",
    "filter = np.array([1,2,3,4]).reshape((2,2,1,1)).astype(np.float32)\n",
    "tf.nn.conv2d(input, filter, strides=[1,1,1,1], padding=\"VALID\")"
   ]
  },
  {
   "cell_type": "markdown",
   "metadata": {},
   "source": [
    "input의 reshape -> 데이터의 수가 1개, (2X3)인 행렬, 1개의 채널  \n",
    "filter의 reshape -> 데이터의 수가 1개, (2X1)인 행렬, 1개의 채널  \n",
    "strides는 필터의 이동 보폭을 의미 즉, 필터가 input 데이터를 1칸씩 이동하며 계산한다는 의미이다.  \n",
    "data_format은 기본적으로 'NHWC'로 설정되어있다. => reshape을 의미, c(채널)이 같아야 한다."
   ]
  },
  {
   "cell_type": "markdown",
   "metadata": {},
   "source": [
    "---\n",
    "10 X 10 X 1의 흑백 이미지를 2장 만들어서 임의의 위치에 '+' 패턴을 그려서 필터로 찾아보자"
   ]
  },
  {
   "cell_type": "code",
   "execution_count": 53,
   "metadata": {},
   "outputs": [
    {
     "data": {
      "text/plain": [
       "<matplotlib.image.AxesImage at 0x1afe01c388>"
      ]
     },
     "execution_count": 53,
     "metadata": {},
     "output_type": "execute_result"
    },
    {
     "data": {
      "image/png": "[encoded data removed]",
      "text/plain": [
       "<Figure size 432x288 with 1 Axes>"
      ]
     },
     "metadata": {
      "needs_background": "light"
     },
     "output_type": "display_data"
    }
   ],
   "source": [
    "y = np.array([[[3,3], [7,7]], [[2,3],[5,5]]])\n",
    "x = np.zeros((2, 10, 10, 1)) # (데이터의 갯수, height(행), width(열), channel)\n",
    "x += np.random.rand(2,10,10,1) # 노이즈\n",
    "\n",
    "for i in range(len(y)):\n",
    "    label = y[i] # step 1: [[3,3], [7,7]] step 2: [[2,3], [5,5]]\n",
    "    for j in range(len(label)):\n",
    "        point = label[j] # step 1: [3,3] step 2: [7,7]\n",
    "        px = point[0] # step 1: 3 step 2: 7\n",
    "        py = point[1] # step 1: 3 step 2: 7\n",
    "        x[i, py-1:py+2, px] += 1 # step 1: 1번 이미지의 2, 3, 4 행 3열 +1\n",
    "        x[i, py, px-1:px+2] += 1 # step 1: 1번 이미지의 3행 2, 3, 4열 +1\n",
    "plt.imshow(x[1,:,:,0], cmap='gray') # 패턴확인"
   ]
  },
  {
   "cell_type": "markdown",
   "metadata": {},
   "source": [
    "**Convolution의 특징**\n",
    "- 이동 불변성 shift invariant: 찾으려는 정보가 어디에 있던 하나의 가중치를 공유하여 사용하기 때문에 찾을 수 있다.\n",
    "- 가중치 공유 weight sharing: DNN의 경우 각 원소(데이터)마다 가중치가 부여되지만 CNN에서는 필터라는 가중치를 슬라이드하는 방식을 이용하여 가중치를 공유한다. 그러므로 많은 메모리가 필요하지 않다."
   ]
  },
  {
   "cell_type": "code",
   "execution_count": 55,
   "metadata": {},
   "outputs": [
    {
     "data": {
      "text/plain": [
       "<matplotlib.image.AxesImage at 0x1afe208dc8>"
      ]
     },
     "execution_count": 55,
     "metadata": {},
     "output_type": "execute_result"
    },
    {
     "data": {
      "image/png": "[encoded data removed]",
      "text/plain": [
       "<Figure size 432x288 with 1 Axes>"
      ]
     },
     "metadata": {
      "needs_background": "light"
     },
     "output_type": "display_data"
    }
   ],
   "source": [
    "filter = np.array([0,1,0,1,1,1,0,1,0], dtype=np.float32).reshape((3,3,1,1))\n",
    "# out = tf.nn.conv2d(x, filter, [1,1,1,1], padding=\"VALID\")\n",
    "out = tf.nn.conv2d(x, filter, [1,1,1,1], padding=\"SAME\")\n",
    "plt.imshow(out[1,:,:,0], cmap='gray')"
   ]
  },
  {
   "cell_type": "markdown",
   "metadata": {},
   "source": [
    "MAX POOLING => 특정 구역에서 가장 큰 값을 추출하는 방법  \n",
    "1. 데이터의 사이즈를 줄이는 효과가 있다.\n",
    "2. 찾으려는 특징이 더 강하게 표현된다.\n",
    "\n",
    "주로 2X2의 크기, 즉 4개의 데이터 중 1개의 가장 큰 수를 선택한다. 따라서 결과적으로 데이터의 크기(행렬의 크기)가 $1 \\over 4$로 줄어들게 된다."
   ]
  },
  {
   "cell_type": "code",
   "execution_count": 59,
   "metadata": {},
   "outputs": [
    {
     "data": {
      "text/plain": [
       "<matplotlib.image.AxesImage at 0x1a84ea7908>"
      ]
     },
     "execution_count": 59,
     "metadata": {},
     "output_type": "execute_result"
    },
    {
     "data": {
      "image/png": "[encoded data removed]",
      "text/plain": [
       "<Figure size 432x288 with 1 Axes>"
      ]
     },
     "metadata": {
      "needs_background": "light"
     },
     "output_type": "display_data"
    }
   ],
   "source": [
    "filter = np.array([0,1,0,1,1,1,0,1,0], dtype=np.float32).reshape((3,3,1,1))\n",
    "# out = tf.nn.conv2d(x, filter, 1, padding=\"VALID\")\n",
    "out = tf.nn.conv2d(x, filter, 1, padding=\"SAME\")\n",
    "out = tf.nn.max_pool(out, 2, 2, padding='SAME')\n",
    "plt.imshow(out[1,:,:,0], cmap='gray')"
   ]
  },
  {
   "cell_type": "code",
   "execution_count": 62,
   "metadata": {},
   "outputs": [
    {
     "data": {
      "text/plain": [
       "((1797, 8, 8), (1797,))"
      ]
     },
     "execution_count": 62,
     "metadata": {},
     "output_type": "execute_result"
    }
   ],
   "source": [
    "from sklearn.datasets import load_digits\n",
    "data = load_digits()\n",
    "x = data.images\n",
    "y = data.target\n",
    "x.shape, y.shape"
   ]
  },
  {
   "cell_type": "code",
   "execution_count": 75,
   "metadata": {},
   "outputs": [],
   "source": [
    "model = keras.Sequential()\n",
    "model.add(keras.layers.Conv2D(32, (3,3), padding='same', input_shape=(8,8,1))) # 필터 갯수 32, 크기 [3,3]\n",
    "model.add(keras.layers.MaxPool2D((2,2), padding='same'))\n",
    "model.add(keras.layers.Conv2D(64, (3,3), padding='same'))\n",
    "model.add(keras.layers.MaxPool2D((2,2), padding='same'))\n",
    "model.add(keras.layers.Flatten()) # 1D로 모양 바꾸기\n",
    "model.add(keras.layers.Dense(10, activation=keras.layers.Softmax())) # 클래스가 10개 이므로\n",
    "model.compile(loss=keras.losses.SparseCategoricalCrossentropy(), metrics=['accuracy'])"
   ]
  },
  {
   "cell_type": "code",
   "execution_count": 74,
   "metadata": {},
   "outputs": [
    {
     "name": "stdout",
     "output_type": "stream",
     "text": [
      "Model: \"sequential_6\"\n",
      "_________________________________________________________________\n",
      "Layer (type)                 Output Shape              Param #   \n",
      "=================================================================\n",
      "conv2d_5 (Conv2D)            (None, 8, 8, 32)          320       \n",
      "_________________________________________________________________\n",
      "max_pooling2d (MaxPooling2D) (None, 4, 4, 32)          0         \n",
      "_________________________________________________________________\n",
      "conv2d_6 (Conv2D)            (None, 4, 4, 32)          9248      \n",
      "_________________________________________________________________\n",
      "max_pooling2d_1 (MaxPooling2 (None, 2, 2, 32)          0         \n",
      "_________________________________________________________________\n",
      "flatten (Flatten)            (None, 128)               0         \n",
      "_________________________________________________________________\n",
      "dense (Dense)                (None, 10)                1290      \n",
      "=================================================================\n",
      "Total params: 10,858\n",
      "Trainable params: 10,858\n",
      "Non-trainable params: 0\n",
      "_________________________________________________________________\n"
     ]
    }
   ],
   "source": [
    "# 두 번째 conv 필터의 수 32개\n",
    "model.summary()"
   ]
  },
  {
   "cell_type": "code",
   "execution_count": 76,
   "metadata": {},
   "outputs": [
    {
     "name": "stdout",
     "output_type": "stream",
     "text": [
      "Model: \"sequential_7\"\n",
      "_________________________________________________________________\n",
      "Layer (type)                 Output Shape              Param #   \n",
      "=================================================================\n",
      "conv2d_7 (Conv2D)            (None, 8, 8, 32)          320       \n",
      "_________________________________________________________________\n",
      "max_pooling2d_2 (MaxPooling2 (None, 4, 4, 32)          0         \n",
      "_________________________________________________________________\n",
      "conv2d_8 (Conv2D)            (None, 4, 4, 64)          18496     \n",
      "_________________________________________________________________\n",
      "max_pooling2d_3 (MaxPooling2 (None, 2, 2, 64)          0         \n",
      "_________________________________________________________________\n",
      "flatten_1 (Flatten)          (None, 256)               0         \n",
      "_________________________________________________________________\n",
      "dense_1 (Dense)              (None, 10)                2570      \n",
      "=================================================================\n",
      "Total params: 21,386\n",
      "Trainable params: 21,386\n",
      "Non-trainable params: 0\n",
      "_________________________________________________________________\n"
     ]
    }
   ],
   "source": [
    "# 두 번째 conv 필터의 수 64개\n",
    "model.summary()"
   ]
  },
  {
   "cell_type": "code",
   "execution_count": 78,
   "metadata": {},
   "outputs": [
    {
     "name": "stdout",
     "output_type": "stream",
     "text": [
      "Train on 1797 samples\n",
      "Epoch 1/2\n",
      "1797/1797 [==============================] - 2s 1ms/sample - loss: 1.0416 - accuracy: 0.7312\n",
      "Epoch 2/2\n",
      "1797/1797 [==============================] - 0s 194us/sample - loss: 0.2533 - accuracy: 0.9221\n"
     ]
    },
    {
     "data": {
      "text/plain": [
       "<tensorflow.python.keras.callbacks.History at 0x1a87b90788>"
      ]
     },
     "execution_count": 78,
     "metadata": {},
     "output_type": "execute_result"
    }
   ],
   "source": [
    "x_4d = np.expand_dims(x, -1)\n",
    "# yy = np.stack((y,y), -1)\n",
    "model.fit(x_4d, y, epochs=2)"
   ]
  },
  {
   "cell_type": "code",
   "execution_count": 79,
   "metadata": {},
   "outputs": [
    {
     "data": {
      "text/plain": [
       "array([[9.9627519e-01, 5.1373841e-06, 5.6307955e-04, 1.8981791e-05,\n",
       "        6.2713712e-05, 2.3041105e-04, 5.1856794e-05, 1.6528259e-03,\n",
       "        3.6901841e-04, 7.7074690e-04]], dtype=float32)"
      ]
     },
     "execution_count": 79,
     "metadata": {},
     "output_type": "execute_result"
    }
   ],
   "source": [
    "model.predict(x_4d[:1])"
   ]
  }
 ],
 "metadata": {
  "kernelspec": {
   "display_name": "Python 3",
   "language": "python",
   "name": "python3"
  },
  "language_info": {
   "codemirror_mode": {
    "name": "ipython",
    "version": 3
   },
   "file_extension": ".py",
   "mimetype": "text/x-python",
   "name": "python",
   "nbconvert_exporter": "python",
   "pygments_lexer": "ipython3",
   "version": "3.7.4"
  }
 },
 "nbformat": 4,
 "nbformat_minor": 4
}
